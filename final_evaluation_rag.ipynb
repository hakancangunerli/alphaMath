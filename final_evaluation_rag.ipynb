{
 "cells": [
  {
   "cell_type": "code",
   "execution_count": 1,
   "metadata": {},
   "outputs": [
    {
     "name": "stdout",
     "output_type": "stream",
     "text": [
      "Requirement already satisfied: openai in c:\\users\\defaultuser0\\anaconda3\\lib\\site-packages (from -r requirements.txt (line 1)) (1.23.6)\n",
      "Requirement already satisfied: ollama in c:\\users\\defaultuser0\\anaconda3\\lib\\site-packages (from -r requirements.txt (line 2)) (0.1.8)\n",
      "Requirement already satisfied: PyYAML in c:\\users\\defaultuser0\\anaconda3\\lib\\site-packages (from -r requirements.txt (line 3)) (6.0.1)\n",
      "Requirement already satisfied: groq in c:\\users\\defaultuser0\\anaconda3\\lib\\site-packages (from -r requirements.txt (line 4)) (0.5.0)\n",
      "Requirement already satisfied: langchain in c:\\users\\defaultuser0\\anaconda3\\lib\\site-packages (from -r requirements.txt (line 5)) (0.1.16)\n",
      "Requirement already satisfied: langchain_community in c:\\users\\defaultuser0\\anaconda3\\lib\\site-packages (from -r requirements.txt (line 6)) (0.0.34)\n",
      "Requirement already satisfied: ragas in c:\\users\\defaultuser0\\anaconda3\\lib\\site-packages (from -r requirements.txt (line 7)) (0.1.7)\n",
      "Requirement already satisfied: sympy in c:\\users\\defaultuser0\\anaconda3\\lib\\site-packages (from -r requirements.txt (line 8)) (1.12)\n",
      "Requirement already satisfied: sentence-transformers in c:\\users\\defaultuser0\\anaconda3\\lib\\site-packages (from -r requirements.txt (line 9)) (2.7.0)\n",
      "Requirement already satisfied: chromadb in c:\\users\\defaultuser0\\anaconda3\\lib\\site-packages (from -r requirements.txt (line 10)) (0.5.0)\n",
      "Requirement already satisfied: google-cloud-aiplatform in c:\\users\\defaultuser0\\anaconda3\\lib\\site-packages (from -r requirements.txt (line 11)) (1.48.0)\n",
      "Requirement already satisfied: jupyter in c:\\users\\defaultuser0\\anaconda3\\lib\\site-packages (from -r requirements.txt (line 12)) (1.0.0)\n",
      "Requirement already satisfied: anyio<5,>=3.5.0 in c:\\users\\defaultuser0\\anaconda3\\lib\\site-packages (from openai->-r requirements.txt (line 1)) (3.7.1)\n",
      "Requirement already satisfied: distro<2,>=1.7.0 in c:\\users\\defaultuser0\\anaconda3\\lib\\site-packages (from openai->-r requirements.txt (line 1)) (1.9.0)\n",
      "Requirement already satisfied: httpx<1,>=0.23.0 in c:\\users\\defaultuser0\\anaconda3\\lib\\site-packages (from openai->-r requirements.txt (line 1)) (0.27.0)\n",
      "Requirement already satisfied: pydantic<3,>=1.9.0 in c:\\users\\defaultuser0\\anaconda3\\lib\\site-packages (from openai->-r requirements.txt (line 1)) (2.7.1)\n",
      "Requirement already satisfied: sniffio in c:\\users\\defaultuser0\\anaconda3\\lib\\site-packages (from openai->-r requirements.txt (line 1)) (1.3.1)\n",
      "Requirement already satisfied: tqdm>4 in c:\\users\\defaultuser0\\anaconda3\\lib\\site-packages (from openai->-r requirements.txt (line 1)) (4.66.2)\n",
      "Requirement already satisfied: typing-extensions<5,>=4.7 in c:\\users\\defaultuser0\\anaconda3\\lib\\site-packages (from openai->-r requirements.txt (line 1)) (4.11.0)\n",
      "Requirement already satisfied: SQLAlchemy<3,>=1.4 in c:\\users\\defaultuser0\\anaconda3\\lib\\site-packages (from langchain->-r requirements.txt (line 5)) (1.4.39)\n",
      "Requirement already satisfied: aiohttp<4.0.0,>=3.8.3 in c:\\users\\defaultuser0\\anaconda3\\lib\\site-packages (from langchain->-r requirements.txt (line 5)) (3.8.5)\n",
      "Requirement already satisfied: dataclasses-json<0.7,>=0.5.7 in c:\\users\\defaultuser0\\anaconda3\\lib\\site-packages (from langchain->-r requirements.txt (line 5)) (0.6.4)\n",
      "Requirement already satisfied: jsonpatch<2.0,>=1.33 in c:\\users\\defaultuser0\\anaconda3\\lib\\site-packages (from langchain->-r requirements.txt (line 5)) (1.33)\n",
      "Requirement already satisfied: langchain-core<0.2.0,>=0.1.42 in c:\\users\\defaultuser0\\anaconda3\\lib\\site-packages (from langchain->-r requirements.txt (line 5)) (0.1.46)\n",
      "Requirement already satisfied: langchain-text-splitters<0.1,>=0.0.1 in c:\\users\\defaultuser0\\anaconda3\\lib\\site-packages (from langchain->-r requirements.txt (line 5)) (0.0.1)\n",
      "Requirement already satisfied: langsmith<0.2.0,>=0.1.17 in c:\\users\\defaultuser0\\anaconda3\\lib\\site-packages (from langchain->-r requirements.txt (line 5)) (0.1.50)\n",
      "Requirement already satisfied: numpy<2,>=1 in c:\\users\\defaultuser0\\anaconda3\\lib\\site-packages (from langchain->-r requirements.txt (line 5)) (1.26.4)\n",
      "Requirement already satisfied: requests<3,>=2 in c:\\users\\defaultuser0\\anaconda3\\lib\\site-packages (from langchain->-r requirements.txt (line 5)) (2.31.0)\n",
      "Requirement already satisfied: tenacity<9.0.0,>=8.1.0 in c:\\users\\defaultuser0\\anaconda3\\lib\\site-packages (from langchain->-r requirements.txt (line 5)) (8.2.3)\n",
      "Requirement already satisfied: datasets in c:\\users\\defaultuser0\\anaconda3\\lib\\site-packages (from ragas->-r requirements.txt (line 7)) (2.12.0)\n",
      "Requirement already satisfied: tiktoken in c:\\users\\defaultuser0\\anaconda3\\lib\\site-packages (from ragas->-r requirements.txt (line 7)) (0.6.0)\n",
      "Requirement already satisfied: langchain-openai in c:\\users\\defaultuser0\\anaconda3\\lib\\site-packages (from ragas->-r requirements.txt (line 7)) (0.1.3)\n",
      "Requirement already satisfied: pysbd>=0.3.4 in c:\\users\\defaultuser0\\anaconda3\\lib\\site-packages (from ragas->-r requirements.txt (line 7)) (0.3.4)\n",
      "Requirement already satisfied: nest-asyncio in c:\\users\\defaultuser0\\anaconda3\\lib\\site-packages (from ragas->-r requirements.txt (line 7)) (1.5.6)\n",
      "Requirement already satisfied: appdirs in c:\\users\\defaultuser0\\anaconda3\\lib\\site-packages (from ragas->-r requirements.txt (line 7)) (1.4.4)\n",
      "Requirement already satisfied: mpmath>=0.19 in c:\\users\\defaultuser0\\anaconda3\\lib\\site-packages (from sympy->-r requirements.txt (line 8)) (1.3.0)\n",
      "Requirement already satisfied: transformers<5.0.0,>=4.34.0 in c:\\users\\defaultuser0\\anaconda3\\lib\\site-packages (from sentence-transformers->-r requirements.txt (line 9)) (4.40.1)\n",
      "Requirement already satisfied: torch>=1.11.0 in c:\\users\\defaultuser0\\anaconda3\\lib\\site-packages (from sentence-transformers->-r requirements.txt (line 9)) (2.1.1)\n",
      "Requirement already satisfied: scikit-learn in c:\\users\\defaultuser0\\anaconda3\\lib\\site-packages (from sentence-transformers->-r requirements.txt (line 9)) (1.3.0)\n",
      "Requirement already satisfied: scipy in c:\\users\\defaultuser0\\anaconda3\\lib\\site-packages (from sentence-transformers->-r requirements.txt (line 9)) (1.11.1)\n",
      "Requirement already satisfied: huggingface-hub>=0.15.1 in c:\\users\\defaultuser0\\anaconda3\\lib\\site-packages (from sentence-transformers->-r requirements.txt (line 9)) (0.22.2)\n",
      "Requirement already satisfied: Pillow in c:\\users\\defaultuser0\\anaconda3\\lib\\site-packages (from sentence-transformers->-r requirements.txt (line 9)) (9.4.0)\n",
      "Requirement already satisfied: build>=1.0.3 in c:\\users\\defaultuser0\\anaconda3\\lib\\site-packages (from chromadb->-r requirements.txt (line 10)) (1.2.1)\n",
      "Requirement already satisfied: chroma-hnswlib==0.7.3 in c:\\users\\defaultuser0\\anaconda3\\lib\\site-packages (from chromadb->-r requirements.txt (line 10)) (0.7.3)\n",
      "Requirement already satisfied: fastapi>=0.95.2 in c:\\users\\defaultuser0\\anaconda3\\lib\\site-packages (from chromadb->-r requirements.txt (line 10)) (0.110.2)\n",
      "Requirement already satisfied: uvicorn[standard]>=0.18.3 in c:\\users\\defaultuser0\\anaconda3\\lib\\site-packages (from chromadb->-r requirements.txt (line 10)) (0.29.0)\n",
      "Requirement already satisfied: posthog>=2.4.0 in c:\\users\\defaultuser0\\anaconda3\\lib\\site-packages (from chromadb->-r requirements.txt (line 10)) (3.5.0)\n",
      "Requirement already satisfied: onnxruntime>=1.14.1 in c:\\users\\defaultuser0\\anaconda3\\lib\\site-packages (from chromadb->-r requirements.txt (line 10)) (1.17.3)\n",
      "Requirement already satisfied: opentelemetry-api>=1.2.0 in c:\\users\\defaultuser0\\anaconda3\\lib\\site-packages (from chromadb->-r requirements.txt (line 10)) (1.24.0)\n",
      "Requirement already satisfied: opentelemetry-exporter-otlp-proto-grpc>=1.2.0 in c:\\users\\defaultuser0\\anaconda3\\lib\\site-packages (from chromadb->-r requirements.txt (line 10)) (1.24.0)\n",
      "Requirement already satisfied: opentelemetry-instrumentation-fastapi>=0.41b0 in c:\\users\\defaultuser0\\anaconda3\\lib\\site-packages (from chromadb->-r requirements.txt (line 10)) (0.45b0)\n",
      "Requirement already satisfied: opentelemetry-sdk>=1.2.0 in c:\\users\\defaultuser0\\anaconda3\\lib\\site-packages (from chromadb->-r requirements.txt (line 10)) (1.24.0)\n",
      "Requirement already satisfied: tokenizers>=0.13.2 in c:\\users\\defaultuser0\\anaconda3\\lib\\site-packages (from chromadb->-r requirements.txt (line 10)) (0.19.1)\n",
      "Requirement already satisfied: pypika>=0.48.9 in c:\\users\\defaultuser0\\anaconda3\\lib\\site-packages (from chromadb->-r requirements.txt (line 10)) (0.48.9)\n",
      "Requirement already satisfied: overrides>=7.3.1 in c:\\users\\defaultuser0\\anaconda3\\lib\\site-packages (from chromadb->-r requirements.txt (line 10)) (7.7.0)\n",
      "Requirement already satisfied: importlib-resources in c:\\users\\defaultuser0\\anaconda3\\lib\\site-packages (from chromadb->-r requirements.txt (line 10)) (6.4.0)\n",
      "Requirement already satisfied: grpcio>=1.58.0 in c:\\users\\defaultuser0\\anaconda3\\lib\\site-packages (from chromadb->-r requirements.txt (line 10)) (1.62.2)\n",
      "Requirement already satisfied: bcrypt>=4.0.1 in c:\\users\\defaultuser0\\anaconda3\\lib\\site-packages (from chromadb->-r requirements.txt (line 10)) (4.1.2)\n",
      "Requirement already satisfied: typer>=0.9.0 in c:\\users\\defaultuser0\\anaconda3\\lib\\site-packages (from chromadb->-r requirements.txt (line 10)) (0.12.3)\n",
      "Requirement already satisfied: kubernetes>=28.1.0 in c:\\users\\defaultuser0\\anaconda3\\lib\\site-packages (from chromadb->-r requirements.txt (line 10)) (29.0.0)\n",
      "Requirement already satisfied: mmh3>=4.0.1 in c:\\users\\defaultuser0\\anaconda3\\lib\\site-packages (from chromadb->-r requirements.txt (line 10)) (4.1.0)\n",
      "Requirement already satisfied: orjson>=3.9.12 in c:\\users\\defaultuser0\\anaconda3\\lib\\site-packages (from chromadb->-r requirements.txt (line 10)) (3.10.1)\n",
      "Requirement already satisfied: google-api-core[grpc]!=2.0.*,!=2.1.*,!=2.2.*,!=2.3.*,!=2.4.*,!=2.5.*,!=2.6.*,!=2.7.*,<3.0.0dev,>=1.34.1 in c:\\users\\defaultuser0\\anaconda3\\lib\\site-packages (from google-cloud-aiplatform->-r requirements.txt (line 11)) (2.18.0)\n",
      "Requirement already satisfied: google-auth<3.0.0dev,>=2.14.1 in c:\\users\\defaultuser0\\anaconda3\\lib\\site-packages (from google-cloud-aiplatform->-r requirements.txt (line 11)) (2.29.0)\n",
      "Requirement already satisfied: proto-plus<2.0.0dev,>=1.22.0 in c:\\users\\defaultuser0\\anaconda3\\lib\\site-packages (from google-cloud-aiplatform->-r requirements.txt (line 11)) (1.23.0)\n",
      "Requirement already satisfied: protobuf!=3.20.0,!=3.20.1,!=4.21.0,!=4.21.1,!=4.21.2,!=4.21.3,!=4.21.4,!=4.21.5,<5.0.0dev,>=3.19.5 in c:\\users\\defaultuser0\\anaconda3\\lib\\site-packages (from google-cloud-aiplatform->-r requirements.txt (line 11)) (4.25.3)\n",
      "Requirement already satisfied: packaging>=14.3 in c:\\users\\defaultuser0\\anaconda3\\lib\\site-packages (from google-cloud-aiplatform->-r requirements.txt (line 11)) (23.2)\n",
      "Requirement already satisfied: google-cloud-storage<3.0.0dev,>=1.32.0 in c:\\users\\defaultuser0\\anaconda3\\lib\\site-packages (from google-cloud-aiplatform->-r requirements.txt (line 11)) (2.16.0)\n",
      "Requirement already satisfied: google-cloud-bigquery!=3.20.0,<4.0.0dev,>=1.15.0 in c:\\users\\defaultuser0\\anaconda3\\lib\\site-packages (from google-cloud-aiplatform->-r requirements.txt (line 11)) (3.21.0)\n",
      "Requirement already satisfied: google-cloud-resource-manager<3.0.0dev,>=1.3.3 in c:\\users\\defaultuser0\\anaconda3\\lib\\site-packages (from google-cloud-aiplatform->-r requirements.txt (line 11)) (1.12.3)\n",
      "Requirement already satisfied: shapely<3.0.0dev in c:\\users\\defaultuser0\\anaconda3\\lib\\site-packages (from google-cloud-aiplatform->-r requirements.txt (line 11)) (2.0.4)\n",
      "Requirement already satisfied: docstring-parser<1 in c:\\users\\defaultuser0\\anaconda3\\lib\\site-packages (from google-cloud-aiplatform->-r requirements.txt (line 11)) (0.16)\n",
      "Requirement already satisfied: notebook in c:\\users\\defaultuser0\\anaconda3\\lib\\site-packages (from jupyter->-r requirements.txt (line 12)) (6.5.4)\n",
      "Requirement already satisfied: qtconsole in c:\\users\\defaultuser0\\anaconda3\\lib\\site-packages (from jupyter->-r requirements.txt (line 12)) (5.4.2)\n",
      "Requirement already satisfied: jupyter-console in c:\\users\\defaultuser0\\anaconda3\\lib\\site-packages (from jupyter->-r requirements.txt (line 12)) (6.6.3)\n",
      "Requirement already satisfied: nbconvert in c:\\users\\defaultuser0\\anaconda3\\lib\\site-packages (from jupyter->-r requirements.txt (line 12)) (6.5.4)\n",
      "Requirement already satisfied: ipykernel in c:\\users\\defaultuser0\\anaconda3\\lib\\site-packages (from jupyter->-r requirements.txt (line 12)) (6.25.0)\n",
      "Requirement already satisfied: ipywidgets in c:\\users\\defaultuser0\\anaconda3\\lib\\site-packages (from jupyter->-r requirements.txt (line 12)) (8.0.4)\n",
      "Requirement already satisfied: attrs>=17.3.0 in c:\\users\\defaultuser0\\anaconda3\\lib\\site-packages (from aiohttp<4.0.0,>=3.8.3->langchain->-r requirements.txt (line 5)) (22.1.0)\n",
      "Requirement already satisfied: charset-normalizer<4.0,>=2.0 in c:\\users\\defaultuser0\\anaconda3\\lib\\site-packages (from aiohttp<4.0.0,>=3.8.3->langchain->-r requirements.txt (line 5)) (3.3.2)\n",
      "Requirement already satisfied: multidict<7.0,>=4.5 in c:\\users\\defaultuser0\\anaconda3\\lib\\site-packages (from aiohttp<4.0.0,>=3.8.3->langchain->-r requirements.txt (line 5)) (6.0.2)\n",
      "Requirement already satisfied: async-timeout<5.0,>=4.0.0a3 in c:\\users\\defaultuser0\\anaconda3\\lib\\site-packages (from aiohttp<4.0.0,>=3.8.3->langchain->-r requirements.txt (line 5)) (4.0.2)\n",
      "Requirement already satisfied: yarl<2.0,>=1.0 in c:\\users\\defaultuser0\\anaconda3\\lib\\site-packages (from aiohttp<4.0.0,>=3.8.3->langchain->-r requirements.txt (line 5)) (1.8.1)\n",
      "Requirement already satisfied: frozenlist>=1.1.1 in c:\\users\\defaultuser0\\anaconda3\\lib\\site-packages (from aiohttp<4.0.0,>=3.8.3->langchain->-r requirements.txt (line 5)) (1.3.3)\n",
      "Requirement already satisfied: aiosignal>=1.1.2 in c:\\users\\defaultuser0\\anaconda3\\lib\\site-packages (from aiohttp<4.0.0,>=3.8.3->langchain->-r requirements.txt (line 5)) (1.2.0)\n",
      "Requirement already satisfied: idna>=2.8 in c:\\users\\defaultuser0\\anaconda3\\lib\\site-packages (from anyio<5,>=3.5.0->openai->-r requirements.txt (line 1)) (3.7)\n",
      "Requirement already satisfied: pyproject_hooks in c:\\users\\defaultuser0\\anaconda3\\lib\\site-packages (from build>=1.0.3->chromadb->-r requirements.txt (line 10)) (1.0.0)\n",
      "Requirement already satisfied: colorama in c:\\users\\defaultuser0\\anaconda3\\lib\\site-packages (from build>=1.0.3->chromadb->-r requirements.txt (line 10)) (0.4.6)\n",
      "Requirement already satisfied: marshmallow<4.0.0,>=3.18.0 in c:\\users\\defaultuser0\\anaconda3\\lib\\site-packages (from dataclasses-json<0.7,>=0.5.7->langchain->-r requirements.txt (line 5)) (3.21.1)\n",
      "Requirement already satisfied: typing-inspect<1,>=0.4.0 in c:\\users\\defaultuser0\\anaconda3\\lib\\site-packages (from dataclasses-json<0.7,>=0.5.7->langchain->-r requirements.txt (line 5)) (0.9.0)\n",
      "Requirement already satisfied: starlette<0.38.0,>=0.37.2 in c:\\users\\defaultuser0\\anaconda3\\lib\\site-packages (from fastapi>=0.95.2->chromadb->-r requirements.txt (line 10)) (0.37.2)\n",
      "Requirement already satisfied: googleapis-common-protos<2.0.dev0,>=1.56.2 in c:\\users\\defaultuser0\\anaconda3\\lib\\site-packages (from google-api-core[grpc]!=2.0.*,!=2.1.*,!=2.2.*,!=2.3.*,!=2.4.*,!=2.5.*,!=2.6.*,!=2.7.*,<3.0.0dev,>=1.34.1->google-cloud-aiplatform->-r requirements.txt (line 11)) (1.63.0)\n",
      "Requirement already satisfied: grpcio-status<2.0.dev0,>=1.33.2 in c:\\users\\defaultuser0\\anaconda3\\lib\\site-packages (from google-api-core[grpc]!=2.0.*,!=2.1.*,!=2.2.*,!=2.3.*,!=2.4.*,!=2.5.*,!=2.6.*,!=2.7.*,<3.0.0dev,>=1.34.1->google-cloud-aiplatform->-r requirements.txt (line 11)) (1.62.2)\n",
      "Requirement already satisfied: cachetools<6.0,>=2.0.0 in c:\\users\\defaultuser0\\anaconda3\\lib\\site-packages (from google-auth<3.0.0dev,>=2.14.1->google-cloud-aiplatform->-r requirements.txt (line 11)) (5.3.3)\n",
      "Requirement already satisfied: pyasn1-modules>=0.2.1 in c:\\users\\defaultuser0\\anaconda3\\lib\\site-packages (from google-auth<3.0.0dev,>=2.14.1->google-cloud-aiplatform->-r requirements.txt (line 11)) (0.4.0)\n",
      "Requirement already satisfied: rsa<5,>=3.1.4 in c:\\users\\defaultuser0\\anaconda3\\lib\\site-packages (from google-auth<3.0.0dev,>=2.14.1->google-cloud-aiplatform->-r requirements.txt (line 11)) (4.9)\n",
      "Requirement already satisfied: google-cloud-core<3.0.0dev,>=1.6.0 in c:\\users\\defaultuser0\\anaconda3\\lib\\site-packages (from google-cloud-bigquery!=3.20.0,<4.0.0dev,>=1.15.0->google-cloud-aiplatform->-r requirements.txt (line 11)) (2.4.1)\n",
      "Requirement already satisfied: google-resumable-media<3.0dev,>=0.6.0 in c:\\users\\defaultuser0\\anaconda3\\lib\\site-packages (from google-cloud-bigquery!=3.20.0,<4.0.0dev,>=1.15.0->google-cloud-aiplatform->-r requirements.txt (line 11)) (2.7.0)\n",
      "Requirement already satisfied: python-dateutil<3.0dev,>=2.7.2 in c:\\users\\defaultuser0\\anaconda3\\lib\\site-packages (from google-cloud-bigquery!=3.20.0,<4.0.0dev,>=1.15.0->google-cloud-aiplatform->-r requirements.txt (line 11)) (2.8.2)\n",
      "Requirement already satisfied: grpc-google-iam-v1<1.0.0dev,>=0.12.4 in c:\\users\\defaultuser0\\anaconda3\\lib\\site-packages (from google-cloud-resource-manager<3.0.0dev,>=1.3.3->google-cloud-aiplatform->-r requirements.txt (line 11)) (0.13.0)\n",
      "Requirement already satisfied: google-crc32c<2.0dev,>=1.0 in c:\\users\\defaultuser0\\anaconda3\\lib\\site-packages (from google-cloud-storage<3.0.0dev,>=1.32.0->google-cloud-aiplatform->-r requirements.txt (line 11)) (1.5.0)\n",
      "Requirement already satisfied: certifi in c:\\users\\defaultuser0\\anaconda3\\lib\\site-packages (from httpx<1,>=0.23.0->openai->-r requirements.txt (line 1)) (2024.2.2)\n",
      "Requirement already satisfied: httpcore==1.* in c:\\users\\defaultuser0\\anaconda3\\lib\\site-packages (from httpx<1,>=0.23.0->openai->-r requirements.txt (line 1)) (1.0.5)\n",
      "Requirement already satisfied: h11<0.15,>=0.13 in c:\\users\\defaultuser0\\anaconda3\\lib\\site-packages (from httpcore==1.*->httpx<1,>=0.23.0->openai->-r requirements.txt (line 1)) (0.14.0)\n",
      "Requirement already satisfied: filelock in c:\\users\\defaultuser0\\anaconda3\\lib\\site-packages (from huggingface-hub>=0.15.1->sentence-transformers->-r requirements.txt (line 9)) (3.13.4)\n",
      "Requirement already satisfied: fsspec>=2023.5.0 in c:\\users\\defaultuser0\\anaconda3\\lib\\site-packages (from huggingface-hub>=0.15.1->sentence-transformers->-r requirements.txt (line 9)) (2024.3.1)\n",
      "Requirement already satisfied: jsonpointer>=1.9 in c:\\users\\defaultuser0\\anaconda3\\lib\\site-packages (from jsonpatch<2.0,>=1.33->langchain->-r requirements.txt (line 5)) (2.1)\n",
      "Requirement already satisfied: six>=1.9.0 in c:\\users\\defaultuser0\\anaconda3\\lib\\site-packages (from kubernetes>=28.1.0->chromadb->-r requirements.txt (line 10)) (1.16.0)\n",
      "Requirement already satisfied: websocket-client!=0.40.0,!=0.41.*,!=0.42.*,>=0.32.0 in c:\\users\\defaultuser0\\anaconda3\\lib\\site-packages (from kubernetes>=28.1.0->chromadb->-r requirements.txt (line 10)) (1.8.0)\n",
      "Requirement already satisfied: requests-oauthlib in c:\\users\\defaultuser0\\anaconda3\\lib\\site-packages (from kubernetes>=28.1.0->chromadb->-r requirements.txt (line 10)) (2.0.0)\n",
      "Requirement already satisfied: oauthlib>=3.2.2 in c:\\users\\defaultuser0\\anaconda3\\lib\\site-packages (from kubernetes>=28.1.0->chromadb->-r requirements.txt (line 10)) (3.2.2)\n",
      "Requirement already satisfied: urllib3>=1.24.2 in c:\\users\\defaultuser0\\anaconda3\\lib\\site-packages (from kubernetes>=28.1.0->chromadb->-r requirements.txt (line 10)) (1.26.18)\n",
      "Requirement already satisfied: coloredlogs in c:\\users\\defaultuser0\\anaconda3\\lib\\site-packages (from onnxruntime>=1.14.1->chromadb->-r requirements.txt (line 10)) (15.0.1)\n",
      "Requirement already satisfied: flatbuffers in c:\\users\\defaultuser0\\anaconda3\\lib\\site-packages (from onnxruntime>=1.14.1->chromadb->-r requirements.txt (line 10)) (24.3.25)\n",
      "Requirement already satisfied: deprecated>=1.2.6 in c:\\users\\defaultuser0\\anaconda3\\lib\\site-packages (from opentelemetry-api>=1.2.0->chromadb->-r requirements.txt (line 10)) (1.2.14)\n",
      "Requirement already satisfied: importlib-metadata<=7.0,>=6.0 in c:\\users\\defaultuser0\\anaconda3\\lib\\site-packages (from opentelemetry-api>=1.2.0->chromadb->-r requirements.txt (line 10)) (7.0.0)\n",
      "Requirement already satisfied: opentelemetry-exporter-otlp-proto-common==1.24.0 in c:\\users\\defaultuser0\\anaconda3\\lib\\site-packages (from opentelemetry-exporter-otlp-proto-grpc>=1.2.0->chromadb->-r requirements.txt (line 10)) (1.24.0)\n",
      "Requirement already satisfied: opentelemetry-proto==1.24.0 in c:\\users\\defaultuser0\\anaconda3\\lib\\site-packages (from opentelemetry-exporter-otlp-proto-grpc>=1.2.0->chromadb->-r requirements.txt (line 10)) (1.24.0)\n",
      "Requirement already satisfied: opentelemetry-instrumentation-asgi==0.45b0 in c:\\users\\defaultuser0\\anaconda3\\lib\\site-packages (from opentelemetry-instrumentation-fastapi>=0.41b0->chromadb->-r requirements.txt (line 10)) (0.45b0)\n",
      "Requirement already satisfied: opentelemetry-instrumentation==0.45b0 in c:\\users\\defaultuser0\\anaconda3\\lib\\site-packages (from opentelemetry-instrumentation-fastapi>=0.41b0->chromadb->-r requirements.txt (line 10)) (0.45b0)\n",
      "Requirement already satisfied: opentelemetry-semantic-conventions==0.45b0 in c:\\users\\defaultuser0\\anaconda3\\lib\\site-packages (from opentelemetry-instrumentation-fastapi>=0.41b0->chromadb->-r requirements.txt (line 10)) (0.45b0)\n",
      "Requirement already satisfied: opentelemetry-util-http==0.45b0 in c:\\users\\defaultuser0\\anaconda3\\lib\\site-packages (from opentelemetry-instrumentation-fastapi>=0.41b0->chromadb->-r requirements.txt (line 10)) (0.45b0)\n",
      "Requirement already satisfied: setuptools>=16.0 in c:\\users\\defaultuser0\\anaconda3\\lib\\site-packages (from opentelemetry-instrumentation==0.45b0->opentelemetry-instrumentation-fastapi>=0.41b0->chromadb->-r requirements.txt (line 10)) (69.5.1)\n",
      "Requirement already satisfied: wrapt<2.0.0,>=1.0.0 in c:\\users\\defaultuser0\\anaconda3\\lib\\site-packages (from opentelemetry-instrumentation==0.45b0->opentelemetry-instrumentation-fastapi>=0.41b0->chromadb->-r requirements.txt (line 10)) (1.16.0)\n",
      "Requirement already satisfied: asgiref~=3.0 in c:\\users\\defaultuser0\\anaconda3\\lib\\site-packages (from opentelemetry-instrumentation-asgi==0.45b0->opentelemetry-instrumentation-fastapi>=0.41b0->chromadb->-r requirements.txt (line 10)) (3.8.1)\n",
      "Requirement already satisfied: monotonic>=1.5 in c:\\users\\defaultuser0\\anaconda3\\lib\\site-packages (from posthog>=2.4.0->chromadb->-r requirements.txt (line 10)) (1.6)\n",
      "Requirement already satisfied: backoff>=1.10.0 in c:\\users\\defaultuser0\\anaconda3\\lib\\site-packages (from posthog>=2.4.0->chromadb->-r requirements.txt (line 10)) (2.2.1)\n",
      "Requirement already satisfied: annotated-types>=0.4.0 in c:\\users\\defaultuser0\\anaconda3\\lib\\site-packages (from pydantic<3,>=1.9.0->openai->-r requirements.txt (line 1)) (0.6.0)\n",
      "Requirement already satisfied: pydantic-core==2.18.2 in c:\\users\\defaultuser0\\anaconda3\\lib\\site-packages (from pydantic<3,>=1.9.0->openai->-r requirements.txt (line 1)) (2.18.2)\n",
      "Requirement already satisfied: greenlet!=0.4.17 in c:\\users\\defaultuser0\\anaconda3\\lib\\site-packages (from SQLAlchemy<3,>=1.4->langchain->-r requirements.txt (line 5)) (2.0.1)\n",
      "Requirement already satisfied: networkx in c:\\users\\defaultuser0\\anaconda3\\lib\\site-packages (from torch>=1.11.0->sentence-transformers->-r requirements.txt (line 9)) (3.1)\n",
      "Requirement already satisfied: jinja2 in c:\\users\\defaultuser0\\anaconda3\\lib\\site-packages (from torch>=1.11.0->sentence-transformers->-r requirements.txt (line 9)) (3.1.2)\n",
      "Requirement already satisfied: regex!=2019.12.17 in c:\\users\\defaultuser0\\anaconda3\\lib\\site-packages (from transformers<5.0.0,>=4.34.0->sentence-transformers->-r requirements.txt (line 9)) (2022.7.9)\n",
      "Requirement already satisfied: safetensors>=0.4.1 in c:\\users\\defaultuser0\\anaconda3\\lib\\site-packages (from transformers<5.0.0,>=4.34.0->sentence-transformers->-r requirements.txt (line 9)) (0.4.3)\n",
      "Requirement already satisfied: click>=8.0.0 in c:\\users\\defaultuser0\\anaconda3\\lib\\site-packages (from typer>=0.9.0->chromadb->-r requirements.txt (line 10)) (8.1.7)\n",
      "Requirement already satisfied: shellingham>=1.3.0 in c:\\users\\defaultuser0\\anaconda3\\lib\\site-packages (from typer>=0.9.0->chromadb->-r requirements.txt (line 10)) (1.5.4)\n",
      "Requirement already satisfied: rich>=10.11.0 in c:\\users\\defaultuser0\\anaconda3\\lib\\site-packages (from typer>=0.9.0->chromadb->-r requirements.txt (line 10)) (13.7.1)\n",
      "Requirement already satisfied: httptools>=0.5.0 in c:\\users\\defaultuser0\\anaconda3\\lib\\site-packages (from uvicorn[standard]>=0.18.3->chromadb->-r requirements.txt (line 10)) (0.6.1)\n",
      "Requirement already satisfied: python-dotenv>=0.13 in c:\\users\\defaultuser0\\anaconda3\\lib\\site-packages (from uvicorn[standard]>=0.18.3->chromadb->-r requirements.txt (line 10)) (1.0.1)\n",
      "Requirement already satisfied: watchfiles>=0.13 in c:\\users\\defaultuser0\\anaconda3\\lib\\site-packages (from uvicorn[standard]>=0.18.3->chromadb->-r requirements.txt (line 10)) (0.21.0)\n",
      "Requirement already satisfied: websockets>=10.4 in c:\\users\\defaultuser0\\anaconda3\\lib\\site-packages (from uvicorn[standard]>=0.18.3->chromadb->-r requirements.txt (line 10)) (12.0)\n",
      "Requirement already satisfied: pyarrow>=8.0.0 in c:\\users\\defaultuser0\\anaconda3\\lib\\site-packages (from datasets->ragas->-r requirements.txt (line 7)) (11.0.0)\n",
      "Requirement already satisfied: dill<0.3.7,>=0.3.0 in c:\\users\\defaultuser0\\anaconda3\\lib\\site-packages (from datasets->ragas->-r requirements.txt (line 7)) (0.3.6)\n",
      "Requirement already satisfied: pandas in c:\\users\\defaultuser0\\anaconda3\\lib\\site-packages (from datasets->ragas->-r requirements.txt (line 7)) (2.0.3)\n",
      "Requirement already satisfied: xxhash in c:\\users\\defaultuser0\\anaconda3\\lib\\site-packages (from datasets->ragas->-r requirements.txt (line 7)) (2.0.2)\n",
      "Requirement already satisfied: multiprocess in c:\\users\\defaultuser0\\anaconda3\\lib\\site-packages (from datasets->ragas->-r requirements.txt (line 7)) (0.70.14)\n",
      "Requirement already satisfied: responses<0.19 in c:\\users\\defaultuser0\\anaconda3\\lib\\site-packages (from datasets->ragas->-r requirements.txt (line 7)) (0.13.3)\n",
      "Requirement already satisfied: comm>=0.1.1 in c:\\users\\defaultuser0\\anaconda3\\lib\\site-packages (from ipykernel->jupyter->-r requirements.txt (line 12)) (0.1.2)\n",
      "Requirement already satisfied: debugpy>=1.6.5 in c:\\users\\defaultuser0\\anaconda3\\lib\\site-packages (from ipykernel->jupyter->-r requirements.txt (line 12)) (1.6.7)\n",
      "Requirement already satisfied: ipython>=7.23.1 in c:\\users\\defaultuser0\\anaconda3\\lib\\site-packages (from ipykernel->jupyter->-r requirements.txt (line 12)) (8.24.0)\n",
      "Requirement already satisfied: jupyter-client>=6.1.12 in c:\\users\\defaultuser0\\anaconda3\\lib\\site-packages (from ipykernel->jupyter->-r requirements.txt (line 12)) (7.4.9)\n",
      "Requirement already satisfied: jupyter-core!=5.0.*,>=4.12 in c:\\users\\defaultuser0\\anaconda3\\lib\\site-packages (from ipykernel->jupyter->-r requirements.txt (line 12)) (5.3.0)\n",
      "Requirement already satisfied: matplotlib-inline>=0.1 in c:\\users\\defaultuser0\\anaconda3\\lib\\site-packages (from ipykernel->jupyter->-r requirements.txt (line 12)) (0.1.6)\n",
      "Requirement already satisfied: psutil in c:\\users\\defaultuser0\\anaconda3\\lib\\site-packages (from ipykernel->jupyter->-r requirements.txt (line 12)) (5.9.0)\n",
      "Requirement already satisfied: pyzmq>=20 in c:\\users\\defaultuser0\\anaconda3\\lib\\site-packages (from ipykernel->jupyter->-r requirements.txt (line 12)) (23.2.0)\n",
      "Requirement already satisfied: tornado>=6.1 in c:\\users\\defaultuser0\\anaconda3\\lib\\site-packages (from ipykernel->jupyter->-r requirements.txt (line 12)) (6.3.2)\n",
      "Requirement already satisfied: traitlets>=5.4.0 in c:\\users\\defaultuser0\\anaconda3\\lib\\site-packages (from ipykernel->jupyter->-r requirements.txt (line 12)) (5.14.3)\n",
      "Requirement already satisfied: widgetsnbextension~=4.0 in c:\\users\\defaultuser0\\anaconda3\\lib\\site-packages (from ipywidgets->jupyter->-r requirements.txt (line 12)) (4.0.5)\n",
      "Requirement already satisfied: jupyterlab-widgets~=3.0 in c:\\users\\defaultuser0\\anaconda3\\lib\\site-packages (from ipywidgets->jupyter->-r requirements.txt (line 12)) (3.0.5)\n",
      "Requirement already satisfied: prompt-toolkit>=3.0.30 in c:\\users\\defaultuser0\\anaconda3\\lib\\site-packages (from jupyter-console->jupyter->-r requirements.txt (line 12)) (3.0.43)\n",
      "Requirement already satisfied: pygments in c:\\users\\defaultuser0\\anaconda3\\lib\\site-packages (from jupyter-console->jupyter->-r requirements.txt (line 12)) (2.17.2)\n",
      "Requirement already satisfied: lxml in c:\\users\\defaultuser0\\anaconda3\\lib\\site-packages (from nbconvert->jupyter->-r requirements.txt (line 12)) (4.9.3)\n",
      "Requirement already satisfied: beautifulsoup4 in c:\\users\\defaultuser0\\anaconda3\\lib\\site-packages (from nbconvert->jupyter->-r requirements.txt (line 12)) (4.12.2)\n",
      "Requirement already satisfied: bleach in c:\\users\\defaultuser0\\anaconda3\\lib\\site-packages (from nbconvert->jupyter->-r requirements.txt (line 12)) (4.1.0)\n",
      "Requirement already satisfied: defusedxml in c:\\users\\defaultuser0\\anaconda3\\lib\\site-packages (from nbconvert->jupyter->-r requirements.txt (line 12)) (0.7.1)\n",
      "Requirement already satisfied: entrypoints>=0.2.2 in c:\\users\\defaultuser0\\anaconda3\\lib\\site-packages (from nbconvert->jupyter->-r requirements.txt (line 12)) (0.4)\n",
      "Requirement already satisfied: jupyterlab-pygments in c:\\users\\defaultuser0\\anaconda3\\lib\\site-packages (from nbconvert->jupyter->-r requirements.txt (line 12)) (0.1.2)\n",
      "Requirement already satisfied: MarkupSafe>=2.0 in c:\\users\\defaultuser0\\anaconda3\\lib\\site-packages (from nbconvert->jupyter->-r requirements.txt (line 12)) (2.1.1)\n",
      "Requirement already satisfied: mistune<2,>=0.8.1 in c:\\users\\defaultuser0\\anaconda3\\lib\\site-packages (from nbconvert->jupyter->-r requirements.txt (line 12)) (0.8.4)\n",
      "Requirement already satisfied: nbclient>=0.5.0 in c:\\users\\defaultuser0\\anaconda3\\lib\\site-packages (from nbconvert->jupyter->-r requirements.txt (line 12)) (0.5.13)\n",
      "Requirement already satisfied: nbformat>=5.1 in c:\\users\\defaultuser0\\anaconda3\\lib\\site-packages (from nbconvert->jupyter->-r requirements.txt (line 12)) (5.9.2)\n",
      "Requirement already satisfied: pandocfilters>=1.4.1 in c:\\users\\defaultuser0\\anaconda3\\lib\\site-packages (from nbconvert->jupyter->-r requirements.txt (line 12)) (1.5.0)\n",
      "Requirement already satisfied: tinycss2 in c:\\users\\defaultuser0\\anaconda3\\lib\\site-packages (from nbconvert->jupyter->-r requirements.txt (line 12)) (1.2.1)\n",
      "Requirement already satisfied: argon2-cffi in c:\\users\\defaultuser0\\anaconda3\\lib\\site-packages (from notebook->jupyter->-r requirements.txt (line 12)) (21.3.0)\n",
      "Requirement already satisfied: ipython-genutils in c:\\users\\defaultuser0\\anaconda3\\lib\\site-packages (from notebook->jupyter->-r requirements.txt (line 12)) (0.2.0)\n",
      "Requirement already satisfied: Send2Trash>=1.8.0 in c:\\users\\defaultuser0\\anaconda3\\lib\\site-packages (from notebook->jupyter->-r requirements.txt (line 12)) (1.8.0)\n",
      "Requirement already satisfied: terminado>=0.8.3 in c:\\users\\defaultuser0\\anaconda3\\lib\\site-packages (from notebook->jupyter->-r requirements.txt (line 12)) (0.17.1)\n",
      "Requirement already satisfied: prometheus-client in c:\\users\\defaultuser0\\anaconda3\\lib\\site-packages (from notebook->jupyter->-r requirements.txt (line 12)) (0.14.1)\n",
      "Requirement already satisfied: nbclassic>=0.4.7 in c:\\users\\defaultuser0\\anaconda3\\lib\\site-packages (from notebook->jupyter->-r requirements.txt (line 12)) (0.5.5)\n",
      "Requirement already satisfied: qtpy>=2.0.1 in c:\\users\\defaultuser0\\anaconda3\\lib\\site-packages (from qtconsole->jupyter->-r requirements.txt (line 12)) (2.2.0)\n",
      "Requirement already satisfied: joblib>=1.1.1 in c:\\users\\defaultuser0\\anaconda3\\lib\\site-packages (from scikit-learn->sentence-transformers->-r requirements.txt (line 9)) (1.2.0)\n",
      "Requirement already satisfied: threadpoolctl>=2.0.0 in c:\\users\\defaultuser0\\anaconda3\\lib\\site-packages (from scikit-learn->sentence-transformers->-r requirements.txt (line 9)) (2.2.0)\n",
      "Requirement already satisfied: zipp>=0.5 in c:\\users\\defaultuser0\\anaconda3\\lib\\site-packages (from importlib-metadata<=7.0,>=6.0->opentelemetry-api>=1.2.0->chromadb->-r requirements.txt (line 10)) (3.18.1)\n",
      "Requirement already satisfied: decorator in c:\\users\\defaultuser0\\anaconda3\\lib\\site-packages (from ipython>=7.23.1->ipykernel->jupyter->-r requirements.txt (line 12)) (5.1.1)\n",
      "Requirement already satisfied: jedi>=0.16 in c:\\users\\defaultuser0\\anaconda3\\lib\\site-packages (from ipython>=7.23.1->ipykernel->jupyter->-r requirements.txt (line 12)) (0.18.1)\n",
      "Requirement already satisfied: stack-data in c:\\users\\defaultuser0\\anaconda3\\lib\\site-packages (from ipython>=7.23.1->ipykernel->jupyter->-r requirements.txt (line 12)) (0.2.0)\n",
      "Requirement already satisfied: platformdirs>=2.5 in c:\\users\\defaultuser0\\anaconda3\\lib\\site-packages (from jupyter-core!=5.0.*,>=4.12->ipykernel->jupyter->-r requirements.txt (line 12)) (3.10.0)\n",
      "Requirement already satisfied: pywin32>=300 in c:\\users\\defaultuser0\\anaconda3\\lib\\site-packages (from jupyter-core!=5.0.*,>=4.12->ipykernel->jupyter->-r requirements.txt (line 12)) (305.1)\n",
      "Requirement already satisfied: jupyter-server>=1.8 in c:\\users\\defaultuser0\\anaconda3\\lib\\site-packages (from nbclassic>=0.4.7->notebook->jupyter->-r requirements.txt (line 12)) (1.23.4)\n",
      "Requirement already satisfied: notebook-shim>=0.1.0 in c:\\users\\defaultuser0\\anaconda3\\lib\\site-packages (from nbclassic>=0.4.7->notebook->jupyter->-r requirements.txt (line 12)) (0.2.2)\n",
      "Requirement already satisfied: fastjsonschema in c:\\users\\defaultuser0\\anaconda3\\lib\\site-packages (from nbformat>=5.1->nbconvert->jupyter->-r requirements.txt (line 12)) (2.19.1)\n",
      "Requirement already satisfied: jsonschema>=2.6 in c:\\users\\defaultuser0\\anaconda3\\lib\\site-packages (from nbformat>=5.1->nbconvert->jupyter->-r requirements.txt (line 12)) (4.17.3)\n",
      "Requirement already satisfied: wcwidth in c:\\users\\defaultuser0\\anaconda3\\lib\\site-packages (from prompt-toolkit>=3.0.30->jupyter-console->jupyter->-r requirements.txt (line 12)) (0.2.5)\n",
      "Requirement already satisfied: pyasn1<0.7.0,>=0.4.6 in c:\\users\\defaultuser0\\anaconda3\\lib\\site-packages (from pyasn1-modules>=0.2.1->google-auth<3.0.0dev,>=2.14.1->google-cloud-aiplatform->-r requirements.txt (line 11)) (0.6.0)\n",
      "Requirement already satisfied: markdown-it-py>=2.2.0 in c:\\users\\defaultuser0\\anaconda3\\lib\\site-packages (from rich>=10.11.0->typer>=0.9.0->chromadb->-r requirements.txt (line 10)) (3.0.0)\n",
      "Requirement already satisfied: pywinpty>=1.1.0 in c:\\users\\defaultuser0\\anaconda3\\lib\\site-packages (from terminado>=0.8.3->notebook->jupyter->-r requirements.txt (line 12)) (2.0.10)\n",
      "Requirement already satisfied: mypy-extensions>=0.3.0 in c:\\users\\defaultuser0\\anaconda3\\lib\\site-packages (from typing-inspect<1,>=0.4.0->dataclasses-json<0.7,>=0.5.7->langchain->-r requirements.txt (line 5)) (1.0.0)\n",
      "Requirement already satisfied: argon2-cffi-bindings in c:\\users\\defaultuser0\\anaconda3\\lib\\site-packages (from argon2-cffi->notebook->jupyter->-r requirements.txt (line 12)) (21.2.0)\n",
      "Requirement already satisfied: soupsieve>1.2 in c:\\users\\defaultuser0\\anaconda3\\lib\\site-packages (from beautifulsoup4->nbconvert->jupyter->-r requirements.txt (line 12)) (2.4)\n",
      "Requirement already satisfied: webencodings in c:\\users\\defaultuser0\\anaconda3\\lib\\site-packages (from bleach->nbconvert->jupyter->-r requirements.txt (line 12)) (0.5.1)\n",
      "Requirement already satisfied: humanfriendly>=9.1 in c:\\users\\defaultuser0\\anaconda3\\lib\\site-packages (from coloredlogs->onnxruntime>=1.14.1->chromadb->-r requirements.txt (line 10)) (10.0)\n",
      "Requirement already satisfied: pytz>=2020.1 in c:\\users\\defaultuser0\\anaconda3\\lib\\site-packages (from pandas->datasets->ragas->-r requirements.txt (line 7)) (2023.3.post1)\n",
      "Requirement already satisfied: tzdata>=2022.1 in c:\\users\\defaultuser0\\anaconda3\\lib\\site-packages (from pandas->datasets->ragas->-r requirements.txt (line 7)) (2023.3)\n",
      "Requirement already satisfied: pyreadline3 in c:\\users\\defaultuser0\\anaconda3\\lib\\site-packages (from humanfriendly>=9.1->coloredlogs->onnxruntime>=1.14.1->chromadb->-r requirements.txt (line 10)) (3.4.1)\n",
      "Requirement already satisfied: parso<0.9.0,>=0.8.0 in c:\\users\\defaultuser0\\anaconda3\\lib\\site-packages (from jedi>=0.16->ipython>=7.23.1->ipykernel->jupyter->-r requirements.txt (line 12)) (0.8.3)\n",
      "Requirement already satisfied: pyrsistent!=0.17.0,!=0.17.1,!=0.17.2,>=0.14.0 in c:\\users\\defaultuser0\\anaconda3\\lib\\site-packages (from jsonschema>=2.6->nbformat>=5.1->nbconvert->jupyter->-r requirements.txt (line 12)) (0.18.0)\n",
      "Requirement already satisfied: mdurl~=0.1 in c:\\users\\defaultuser0\\anaconda3\\lib\\site-packages (from markdown-it-py>=2.2.0->rich>=10.11.0->typer>=0.9.0->chromadb->-r requirements.txt (line 10)) (0.1.2)\n",
      "Requirement already satisfied: cffi>=1.0.1 in c:\\users\\defaultuser0\\anaconda3\\lib\\site-packages (from argon2-cffi-bindings->argon2-cffi->notebook->jupyter->-r requirements.txt (line 12)) (1.15.1)\n",
      "Requirement already satisfied: executing in c:\\users\\defaultuser0\\anaconda3\\lib\\site-packages (from stack-data->ipython>=7.23.1->ipykernel->jupyter->-r requirements.txt (line 12)) (0.8.3)\n",
      "Requirement already satisfied: asttokens in c:\\users\\defaultuser0\\anaconda3\\lib\\site-packages (from stack-data->ipython>=7.23.1->ipykernel->jupyter->-r requirements.txt (line 12)) (2.0.5)\n",
      "Requirement already satisfied: pure-eval in c:\\users\\defaultuser0\\anaconda3\\lib\\site-packages (from stack-data->ipython>=7.23.1->ipykernel->jupyter->-r requirements.txt (line 12)) (0.2.2)\n",
      "Requirement already satisfied: pycparser in c:\\users\\defaultuser0\\anaconda3\\lib\\site-packages (from cffi>=1.0.1->argon2-cffi-bindings->argon2-cffi->notebook->jupyter->-r requirements.txt (line 12)) (2.21)\n"
     ]
    },
    {
     "name": "stderr",
     "output_type": "stream",
     "text": [
      "DEPRECATION: celery 5.0.5 has a non-standard dependency specifier pytz>dev. pip 23.3 will enforce this behaviour change. A possible replacement is to upgrade to a newer version of celery or contact the author to suggest that they release a version with a conforming dependency specifiers. Discussion can be found at https://github.com/pypa/pip/issues/12063\n"
     ]
    }
   ],
   "source": [
    "!pip install -r requirements.txt"
   ]
  },
  {
   "cell_type": "markdown",
   "metadata": {},
   "source": [
    "ALL_PROBLEM_CLASSES = [\n",
    "    \"algebra\",\n",
    "    \"counting_and_probability\",\n",
    "    \"geometry\",\n",
    "    \"intermediate_algebra\",\n",
    "    \"number_theory\",\n",
    "    \"prealgebra\",\n",
    "    \"precalculus\",\n",
    "]"
   ]
  },
  {
   "cell_type": "code",
   "execution_count": 1,
   "metadata": {},
   "outputs": [],
   "source": [
    "import logging\n",
    "import json\n",
    "from testing_our_method import test_accuracy\n",
    "from constants import ALL_PROBLEM_CLASSES\n",
    "import os\n",
    "\n",
    "os.environ[\"TOKENIZERS_PARALLELISM\"] = \"false\""
   ]
  },
  {
   "cell_type": "code",
   "execution_count": 2,
   "metadata": {},
   "outputs": [
    {
     "name": "stderr",
     "output_type": "stream",
     "text": [
      "Created a chunk of size 1830, which is longer than the specified 1000\n",
      "Created a chunk of size 1837, which is longer than the specified 1000\n",
      "Created a chunk of size 1827, which is longer than the specified 1000\n",
      "Created a chunk of size 1837, which is longer than the specified 1000\n",
      "Created a chunk of size 1827, which is longer than the specified 1000\n",
      "Created a chunk of size 1207, which is longer than the specified 1000\n",
      "Created a chunk of size 1001, which is longer than the specified 1000\n"
     ]
    },
    {
     "name": "stdout",
     "output_type": "stream",
     "text": [
      "Number of documents: 7593\n"
     ]
    }
   ],
   "source": [
    "#Setup the RAG database\n",
    "from db_setup import load_rag\n",
    "\n",
    "load_rag()"
   ]
  },
  {
   "cell_type": "markdown",
   "metadata": {},
   "source": [
    "LLMS TO TRY = [\n",
    "    \"llama3-70b-8192\",\n",
    "    \"llama3-8b-8192\",\n",
    "    \"mixtral-8x7b-32768\",\n",
    "    \"gemma-7b-it\",\n",
    "]"
   ]
  },
  {
   "cell_type": "markdown",
   "metadata": {},
   "source": [
    "## LLM = \"llama3-70b-8192\""
   ]
  },
  {
   "cell_type": "code",
   "execution_count": 2,
   "metadata": {},
   "outputs": [],
   "source": [
    "# Define the models to use\n",
    "CODING_LLM = \"deepseek-coder:6.7b-instruct-q8_0\"\n",
    "MAIN_SOLVER_LLM = \"llama3-70b-8192\"\n",
    "JUDGING_LLM = \"gpt-3.5-turbo\"\n",
    "\n",
    "# Use RAG\n",
    "use_rag = True"
   ]
  },
  {
   "cell_type": "code",
   "execution_count": 3,
   "metadata": {},
   "outputs": [],
   "source": [
    "def test_class(problem_class_number):\n",
    "    problem_class = ALL_PROBLEM_CLASSES[problem_class_number]\n",
    "    dataset_path = os.path.join(\n",
    "        os.getcwd(), \"merged_dataset\", \"test\", problem_class, \"final.json\"\n",
    "    )\n",
    "    dataset = json.load(open(dataset_path))\n",
    "    correct_num, prob_num, fail_coding_num, fail_judging_num = test_accuracy(\n",
    "        data_class=problem_class,\n",
    "        dataset=dataset,\n",
    "        coding_llm=CODING_LLM,\n",
    "        main_solver_llm=MAIN_SOLVER_LLM,\n",
    "        judging_llm=JUDGING_LLM,\n",
    "        levels=[1, 2, 3, 4, 5],\n",
    "        use_rag=use_rag,\n",
    "        logging_level=logging.ERROR,\n",
    "    )\n",
    "    print(f\"Correctly Solved Problems: {correct_num}\")\n",
    "    print(f\"Total Number of Problems: {prob_num}\")\n",
    "    print(f\"Problems where Coding execution fails: {fail_coding_num}\")\n",
    "    print(f\"Problems where Judging LLM fails: {fail_judging_num}\")"
   ]
  },
  {
   "cell_type": "code",
   "execution_count": 4,
   "metadata": {},
   "outputs": [
    {
     "name": "stdout",
     "output_type": "stream",
     "text": [
      "Testing on dataset 'algebra' with levels [1, 2, 3, 4, 5].\n",
      "Percentage complete: 0.0%\n",
      "Percentage complete: 10.0%\n",
      "Percentage complete: 20.0%\n",
      "Percentage complete: 30.0%\n",
      "Percentage complete: 40.0%\n",
      "Percentage complete: 50.0%\n",
      "Percentage complete: 60.0%\n",
      "Percentage complete: 70.0%\n",
      "Percentage complete: 80.0%\n",
      "Percentage complete: 90.0%\n",
      "Correctly Solved Problems: [2, 1, 2, 1, 1]\n",
      "Total Number of Problems: [2, 2, 2, 2, 2]\n",
      "Problems where Coding execution fails: [0, 0, 0, 0, 0]\n",
      "Problems where Judging LLM fails: [0, 0, 0, 0, 0]\n"
     ]
    }
   ],
   "source": [
    "test_class(0)"
   ]
  },
  {
   "cell_type": "code",
   "execution_count": 5,
   "metadata": {},
   "outputs": [
    {
     "name": "stdout",
     "output_type": "stream",
     "text": [
      "Testing on dataset 'counting_and_probability' with levels [1, 2, 3, 4, 5].\n",
      "Percentage complete: 0.0%\n",
      "Percentage complete: 10.0%\n",
      "Percentage complete: 20.0%\n",
      "Percentage complete: 30.0%\n",
      "Percentage complete: 40.0%\n",
      "Percentage complete: 50.0%\n",
      "Percentage complete: 60.0%\n",
      "Percentage complete: 70.0%\n",
      "Percentage complete: 80.0%\n",
      "Percentage complete: 90.0%\n",
      "Correctly Solved Problems: [2, 1, 0, 1, 1]\n",
      "Total Number of Problems: [2, 2, 2, 2, 2]\n",
      "Problems where Coding execution fails: [0, 1, 0, 0, 1]\n",
      "Problems where Judging LLM fails: [0, 0, 0, 0, 0]\n"
     ]
    }
   ],
   "source": [
    "test_class(1)"
   ]
  },
  {
   "cell_type": "code",
   "execution_count": 4,
   "metadata": {},
   "outputs": [
    {
     "name": "stdout",
     "output_type": "stream",
     "text": [
      "Testing on dataset 'geometry' with levels [1, 2, 3, 4, 5].\n",
      "Percentage complete: 0.0%\n",
      "Percentage complete: 10.0%\n",
      "Percentage complete: 20.0%\n",
      "Percentage complete: 30.0%\n",
      "Percentage complete: 40.0%\n",
      "Percentage complete: 50.0%\n",
      "Percentage complete: 60.0%\n",
      "Percentage complete: 70.0%\n",
      "Percentage complete: 80.0%\n",
      "Percentage complete: 90.0%\n",
      "Correctly Solved Problems: [1, 2, 1, 0, 0]\n",
      "Total Number of Problems: [2, 2, 2, 2, 2]\n",
      "Problems where Coding execution fails: [0, 0, 1, 1, 0]\n",
      "Problems where Judging LLM fails: [0, 0, 0, 0, 0]\n"
     ]
    }
   ],
   "source": [
    "test_class(2)"
   ]
  },
  {
   "cell_type": "code",
   "execution_count": 4,
   "metadata": {},
   "outputs": [
    {
     "name": "stdout",
     "output_type": "stream",
     "text": [
      "Testing on dataset 'intermediate_algebra' with levels [1, 2, 3, 4, 5].\n",
      "Percentage complete: 0.0%\n",
      "Percentage complete: 10.0%\n",
      "Percentage complete: 20.0%\n",
      "Percentage complete: 30.0%\n",
      "Percentage complete: 40.0%\n",
      "Percentage complete: 50.0%\n",
      "Percentage complete: 60.0%\n",
      "Percentage complete: 70.0%\n",
      "Percentage complete: 80.0%\n",
      "Percentage complete: 90.0%\n",
      "Correctly Solved Problems: [2, 2, 1, 0, 1]\n",
      "Total Number of Problems: [2, 2, 2, 2, 2]\n",
      "Problems where Coding execution fails: [0, 1, 1, 1, 2]\n",
      "Problems where Judging LLM fails: [0, 0, 0, 0, 0]\n"
     ]
    }
   ],
   "source": [
    "test_class(3)"
   ]
  },
  {
   "cell_type": "code",
   "execution_count": 5,
   "metadata": {},
   "outputs": [
    {
     "name": "stdout",
     "output_type": "stream",
     "text": [
      "Testing on dataset 'number_theory' with levels [1, 2, 3, 4, 5].\n",
      "Percentage complete: 0.0%\n",
      "Percentage complete: 10.0%\n",
      "Percentage complete: 20.0%\n",
      "Percentage complete: 30.0%\n",
      "Percentage complete: 40.0%\n",
      "Percentage complete: 50.0%\n",
      "Percentage complete: 60.0%\n",
      "Percentage complete: 70.0%\n",
      "Percentage complete: 80.0%\n",
      "Percentage complete: 90.0%\n",
      "Correctly Solved Problems: [1, 0, 2, 1, 0]\n",
      "Total Number of Problems: [2, 2, 2, 2, 2]\n",
      "Problems where Coding execution fails: [0, 1, 0, 2, 1]\n",
      "Problems where Judging LLM fails: [0, 0, 0, 0, 0]\n"
     ]
    }
   ],
   "source": [
    "test_class(4)"
   ]
  },
  {
   "cell_type": "code",
   "execution_count": 6,
   "metadata": {},
   "outputs": [
    {
     "name": "stdout",
     "output_type": "stream",
     "text": [
      "Testing on dataset 'prealgebra' with levels [1, 2, 3, 4, 5].\n",
      "Percentage complete: 0.0%\n",
      "Percentage complete: 10.0%\n",
      "Percentage complete: 20.0%\n",
      "Percentage complete: 30.0%\n",
      "Percentage complete: 40.0%\n",
      "Percentage complete: 50.0%\n",
      "Percentage complete: 60.0%\n",
      "Percentage complete: 70.0%\n",
      "Percentage complete: 80.0%\n",
      "Percentage complete: 90.0%\n",
      "Correctly Solved Problems: [1, 2, 1, 1, 2]\n",
      "Total Number of Problems: [2, 2, 2, 2, 2]\n",
      "Problems where Coding execution fails: [0, 1, 1, 0, 1]\n",
      "Problems where Judging LLM fails: [0, 0, 0, 0, 0]\n"
     ]
    }
   ],
   "source": [
    "test_class(5)"
   ]
  },
  {
   "cell_type": "code",
   "execution_count": 7,
   "metadata": {},
   "outputs": [
    {
     "name": "stdout",
     "output_type": "stream",
     "text": [
      "Testing on dataset 'precalculus' with levels [1, 2, 3, 4, 5].\n",
      "Percentage complete: 0.0%\n",
      "Percentage complete: 10.0%\n",
      "Percentage complete: 20.0%\n",
      "Percentage complete: 30.0%\n",
      "Percentage complete: 40.0%\n",
      "Percentage complete: 50.0%\n",
      "Percentage complete: 60.0%\n",
      "Percentage complete: 70.0%\n",
      "Percentage complete: 80.0%\n",
      "Percentage complete: 90.0%\n",
      "Correctly Solved Problems: [2, 2, 2, 0, 0]\n",
      "Total Number of Problems: [2, 2, 2, 2, 2]\n",
      "Problems where Coding execution fails: [1, 1, 0, 0, 0]\n",
      "Problems where Judging LLM fails: [0, 0, 0, 0, 0]\n"
     ]
    }
   ],
   "source": [
    "test_class(6)"
   ]
  },
  {
   "cell_type": "markdown",
   "metadata": {},
   "source": [
    "## LLM = \"llama3-8b-8192\""
   ]
  },
  {
   "cell_type": "code",
   "execution_count": 2,
   "metadata": {},
   "outputs": [],
   "source": [
    "# Define the models to use\n",
    "CODING_LLM = \"deepseek-coder:6.7b-instruct-q8_0\"\n",
    "MAIN_SOLVER_LLM = \"llama3-8b-8192\"\n",
    "JUDGING_LLM = \"gpt-3.5-turbo\"\n",
    "\n",
    "# Use RAG\n",
    "use_rag = True"
   ]
  },
  {
   "cell_type": "code",
   "execution_count": 3,
   "metadata": {},
   "outputs": [],
   "source": [
    "def test_class(problem_class_number):\n",
    "    problem_class = ALL_PROBLEM_CLASSES[problem_class_number]\n",
    "    dataset_path = os.path.join(\n",
    "        os.getcwd(), \"merged_dataset\", \"test\", problem_class, \"final.json\"\n",
    "    )\n",
    "    dataset = json.load(open(dataset_path))\n",
    "    correct_num, prob_num, fail_coding_num, fail_judging_num = test_accuracy(\n",
    "        data_class=problem_class,\n",
    "        dataset=dataset,\n",
    "        coding_llm=CODING_LLM,\n",
    "        main_solver_llm=MAIN_SOLVER_LLM,\n",
    "        judging_llm=JUDGING_LLM,\n",
    "        levels=[1, 2, 3, 4, 5],\n",
    "        use_rag=use_rag,\n",
    "        logging_level=logging.ERROR,\n",
    "    )\n",
    "    print(f\"Correctly Solved Problems: {correct_num}\")\n",
    "    print(f\"Total Number of Problems: {prob_num}\")\n",
    "    print(f\"Problems where Coding execution fails: {fail_coding_num}\")\n",
    "    print(f\"Problems where Judging LLM fails: {fail_judging_num}\")"
   ]
  },
  {
   "cell_type": "code",
   "execution_count": 4,
   "metadata": {},
   "outputs": [
    {
     "name": "stdout",
     "output_type": "stream",
     "text": [
      "Testing on dataset 'algebra' with levels [1, 2, 3, 4, 5].\n",
      "Percentage complete: 0.0%\n",
      "Percentage complete: 10.0%\n",
      "Percentage complete: 20.0%\n",
      "Percentage complete: 30.0%\n",
      "Percentage complete: 40.0%\n",
      "Percentage complete: 50.0%\n",
      "Percentage complete: 60.0%\n",
      "Percentage complete: 70.0%\n",
      "Percentage complete: 80.0%\n",
      "Percentage complete: 90.0%\n",
      "Correctly Solved Problems: [2, 1, 1, 0, 1]\n",
      "Total Number of Problems: [2, 2, 2, 2, 2]\n",
      "Problems where Coding execution fails: [0, 0, 0, 1, 1]\n",
      "Problems where Judging LLM fails: [0, 0, 0, 0, 0]\n"
     ]
    }
   ],
   "source": [
    "test_class(0)"
   ]
  },
  {
   "cell_type": "code",
   "execution_count": 5,
   "metadata": {},
   "outputs": [
    {
     "name": "stdout",
     "output_type": "stream",
     "text": [
      "Testing on dataset 'counting_and_probability' with levels [1, 2, 3, 4, 5].\n",
      "Percentage complete: 0.0%\n",
      "Percentage complete: 10.0%\n",
      "Percentage complete: 20.0%\n",
      "Percentage complete: 30.0%\n",
      "Percentage complete: 40.0%\n",
      "Percentage complete: 50.0%\n",
      "Percentage complete: 60.0%\n",
      "Percentage complete: 70.0%\n",
      "Percentage complete: 80.0%\n",
      "Percentage complete: 90.0%\n",
      "Correctly Solved Problems: [1, 1, 0, 0, 0]\n",
      "Total Number of Problems: [2, 2, 2, 2, 2]\n",
      "Problems where Coding execution fails: [1, 1, 1, 0, 0]\n",
      "Problems where Judging LLM fails: [0, 0, 0, 0, 0]\n"
     ]
    }
   ],
   "source": [
    "test_class(1)"
   ]
  },
  {
   "cell_type": "code",
   "execution_count": 6,
   "metadata": {},
   "outputs": [
    {
     "name": "stdout",
     "output_type": "stream",
     "text": [
      "Testing on dataset 'geometry' with levels [1, 2, 3, 4, 5].\n",
      "Percentage complete: 0.0%\n",
      "Percentage complete: 10.0%\n",
      "Percentage complete: 20.0%\n",
      "Percentage complete: 30.0%\n",
      "Percentage complete: 40.0%\n",
      "Percentage complete: 50.0%\n",
      "Percentage complete: 60.0%\n",
      "Percentage complete: 70.0%\n",
      "Percentage complete: 80.0%\n",
      "Percentage complete: 90.0%\n",
      "Correctly Solved Problems: [0, 0, 0, 0, 0]\n",
      "Total Number of Problems: [2, 2, 2, 2, 2]\n",
      "Problems where Coding execution fails: [0, 0, 1, 0, 1]\n",
      "Problems where Judging LLM fails: [0, 0, 0, 0, 0]\n"
     ]
    }
   ],
   "source": [
    "test_class(2)"
   ]
  },
  {
   "cell_type": "code",
   "execution_count": 7,
   "metadata": {},
   "outputs": [
    {
     "name": "stdout",
     "output_type": "stream",
     "text": [
      "Testing on dataset 'intermediate_algebra' with levels [1, 2, 3, 4, 5].\n",
      "Percentage complete: 0.0%\n",
      "Percentage complete: 10.0%\n",
      "Percentage complete: 20.0%\n",
      "Percentage complete: 30.0%\n",
      "Percentage complete: 40.0%\n",
      "Percentage complete: 50.0%\n",
      "Percentage complete: 60.0%\n",
      "Percentage complete: 70.0%\n",
      "Percentage complete: 80.0%\n",
      "Percentage complete: 90.0%\n"
     ]
    },
    {
     "name": "stderr",
     "output_type": "stream",
     "text": [
      "/Users/tanmaydas/dev/dl/alphaMath/.venv/lib/python3.11/site-packages/numpy/core/function_base.py:158: RuntimeWarning: invalid value encountered in multiply\n",
      "  y *= step\n",
      "/Users/tanmaydas/dev/dl/alphaMath/.venv/lib/python3.11/site-packages/numpy/core/function_base.py:168: RuntimeWarning: invalid value encountered in add\n",
      "  y += start\n"
     ]
    },
    {
     "name": "stdout",
     "output_type": "stream",
     "text": [
      "Correctly Solved Problems: [1, 0, 1, 0, 0]\n",
      "Total Number of Problems: [2, 2, 2, 2, 2]\n",
      "Problems where Coding execution fails: [0, 1, 0, 2, 1]\n",
      "Problems where Judging LLM fails: [0, 0, 0, 0, 0]\n"
     ]
    }
   ],
   "source": [
    "test_class(3)"
   ]
  },
  {
   "cell_type": "code",
   "execution_count": 8,
   "metadata": {},
   "outputs": [
    {
     "name": "stdout",
     "output_type": "stream",
     "text": [
      "Testing on dataset 'number_theory' with levels [1, 2, 3, 4, 5].\n",
      "Percentage complete: 0.0%\n",
      "Percentage complete: 10.0%\n",
      "Percentage complete: 20.0%\n",
      "Percentage complete: 30.0%\n",
      "Percentage complete: 40.0%\n",
      "Percentage complete: 50.0%\n",
      "Percentage complete: 60.0%\n",
      "Percentage complete: 70.0%\n",
      "Percentage complete: 80.0%\n",
      "Percentage complete: 90.0%\n",
      "Correctly Solved Problems: [1, 0, 1, 0, 0]\n",
      "Total Number of Problems: [2, 2, 2, 2, 2]\n",
      "Problems where Coding execution fails: [0, 2, 0, 0, 2]\n",
      "Problems where Judging LLM fails: [0, 0, 0, 0, 0]\n"
     ]
    }
   ],
   "source": [
    "test_class(4)"
   ]
  },
  {
   "cell_type": "code",
   "execution_count": 9,
   "metadata": {},
   "outputs": [
    {
     "name": "stdout",
     "output_type": "stream",
     "text": [
      "Testing on dataset 'prealgebra' with levels [1, 2, 3, 4, 5].\n",
      "Percentage complete: 0.0%\n",
      "Percentage complete: 10.0%\n",
      "Percentage complete: 20.0%\n",
      "Percentage complete: 30.0%\n",
      "Percentage complete: 40.0%\n",
      "Percentage complete: 50.0%\n",
      "Percentage complete: 60.0%\n",
      "Percentage complete: 70.0%\n",
      "Percentage complete: 80.0%\n",
      "Percentage complete: 90.0%\n",
      "Correctly Solved Problems: [0, 2, 0, 1, 0]\n",
      "Total Number of Problems: [2, 2, 2, 2, 2]\n",
      "Problems where Coding execution fails: [0, 1, 0, 0, 0]\n",
      "Problems where Judging LLM fails: [0, 0, 0, 0, 0]\n"
     ]
    }
   ],
   "source": [
    "test_class(5)"
   ]
  },
  {
   "cell_type": "code",
   "execution_count": 10,
   "metadata": {},
   "outputs": [
    {
     "name": "stdout",
     "output_type": "stream",
     "text": [
      "Testing on dataset 'precalculus' with levels [1, 2, 3, 4, 5].\n",
      "Percentage complete: 0.0%\n",
      "Percentage complete: 10.0%\n",
      "Percentage complete: 20.0%\n",
      "Percentage complete: 30.0%\n",
      "Percentage complete: 40.0%\n",
      "Percentage complete: 50.0%\n",
      "Percentage complete: 60.0%\n",
      "Percentage complete: 70.0%\n",
      "Percentage complete: 80.0%\n",
      "Percentage complete: 90.0%\n",
      "Correctly Solved Problems: [0, 1, 1, 0, 0]\n",
      "Total Number of Problems: [2, 2, 2, 2, 2]\n",
      "Problems where Coding execution fails: [0, 0, 0, 0, 0]\n",
      "Problems where Judging LLM fails: [0, 0, 0, 0, 0]\n"
     ]
    }
   ],
   "source": [
    "test_class(6)"
   ]
  },
  {
   "cell_type": "markdown",
   "metadata": {},
   "source": [
    "## LLM = \"mixtral-8x7b-32768\""
   ]
  },
  {
   "cell_type": "code",
   "execution_count": 2,
   "metadata": {},
   "outputs": [],
   "source": [
    "# Define the models to use\n",
    "CODING_LLM = \"deepseek-coder:6.7b-instruct-q8_0\"\n",
    "MAIN_SOLVER_LLM = \"mixtral-8x7b-32768\"\n",
    "JUDGING_LLM = \"gpt-3.5-turbo\"\n",
    "\n",
    "# Use RAG\n",
    "use_rag = True"
   ]
  },
  {
   "cell_type": "code",
   "execution_count": 3,
   "metadata": {},
   "outputs": [],
   "source": [
    "def test_class(problem_class_number):\n",
    "    problem_class = ALL_PROBLEM_CLASSES[problem_class_number]\n",
    "    dataset_path = os.path.join(\n",
    "        os.getcwd(), \"merged_dataset\", \"test\", problem_class, \"final.json\"\n",
    "    )\n",
    "    dataset = json.load(open(dataset_path))\n",
    "    correct_num, prob_num, fail_coding_num, fail_judging_num = test_accuracy(\n",
    "        data_class=problem_class,\n",
    "        dataset=dataset,\n",
    "        coding_llm=CODING_LLM,\n",
    "        main_solver_llm=MAIN_SOLVER_LLM,\n",
    "        judging_llm=JUDGING_LLM,\n",
    "        levels=[1, 2, 3, 4, 5],\n",
    "        use_rag=use_rag,\n",
    "        logging_level=logging.ERROR,\n",
    "    )\n",
    "    print(f\"Correctly Solved Problems: {correct_num}\")\n",
    "    print(f\"Total Number of Problems: {prob_num}\")\n",
    "    print(f\"Problems where Coding execution fails: {fail_coding_num}\")\n",
    "    print(f\"Problems where Judging LLM fails: {fail_judging_num}\")"
   ]
  },
  {
   "cell_type": "code",
   "execution_count": 13,
   "metadata": {},
   "outputs": [
    {
     "name": "stdout",
     "output_type": "stream",
     "text": [
      "Testing on dataset 'algebra' with levels [1, 2, 3, 4, 5].\n",
      "Percentage complete: 0.0%\n",
      "Percentage complete: 10.0%\n",
      "Percentage complete: 20.0%\n",
      "Percentage complete: 30.0%\n",
      "Percentage complete: 40.0%\n",
      "Percentage complete: 50.0%\n",
      "Percentage complete: 60.0%\n",
      "Percentage complete: 70.0%\n",
      "Percentage complete: 80.0%\n",
      "Percentage complete: 90.0%\n",
      "Correctly Solved Problems: [2, 1, 0, 0, 1]\n",
      "Total Number of Problems: [2, 2, 2, 2, 2]\n",
      "Problems where Coding execution fails: [0, 0, 0, 0, 2]\n",
      "Problems where Judging LLM fails: [0, 0, 0, 0, 0]\n"
     ]
    }
   ],
   "source": [
    "test_class(0)"
   ]
  },
  {
   "cell_type": "code",
   "execution_count": 14,
   "metadata": {},
   "outputs": [
    {
     "name": "stdout",
     "output_type": "stream",
     "text": [
      "Testing on dataset 'counting_and_probability' with levels [1, 2, 3, 4, 5].\n",
      "Percentage complete: 0.0%\n",
      "Percentage complete: 10.0%\n",
      "Percentage complete: 20.0%\n",
      "Percentage complete: 30.0%\n",
      "Percentage complete: 40.0%\n",
      "Percentage complete: 50.0%\n",
      "Percentage complete: 60.0%\n",
      "Percentage complete: 70.0%\n",
      "Percentage complete: 80.0%\n",
      "Percentage complete: 90.0%\n",
      "Correctly Solved Problems: [0, 0, 0, 1, 0]\n",
      "Total Number of Problems: [2, 2, 2, 2, 2]\n",
      "Problems where Coding execution fails: [0, 2, 0, 1, 0]\n",
      "Problems where Judging LLM fails: [0, 0, 0, 0, 0]\n"
     ]
    }
   ],
   "source": [
    "test_class(1)"
   ]
  },
  {
   "cell_type": "code",
   "execution_count": 15,
   "metadata": {},
   "outputs": [
    {
     "name": "stdout",
     "output_type": "stream",
     "text": [
      "Testing on dataset 'geometry' with levels [1, 2, 3, 4, 5].\n",
      "Percentage complete: 0.0%\n",
      "Percentage complete: 10.0%\n",
      "Percentage complete: 20.0%\n",
      "Percentage complete: 30.0%\n",
      "Percentage complete: 40.0%\n",
      "Percentage complete: 50.0%\n",
      "Percentage complete: 60.0%\n",
      "Percentage complete: 70.0%\n",
      "Percentage complete: 80.0%\n",
      "Percentage complete: 90.0%\n",
      "Correctly Solved Problems: [0, 1, 1, 0, 0]\n",
      "Total Number of Problems: [2, 2, 2, 2, 2]\n",
      "Problems where Coding execution fails: [0, 0, 1, 1, 0]\n",
      "Problems where Judging LLM fails: [0, 0, 0, 0, 0]\n"
     ]
    }
   ],
   "source": [
    "test_class(2)"
   ]
  },
  {
   "cell_type": "code",
   "execution_count": 16,
   "metadata": {},
   "outputs": [
    {
     "name": "stdout",
     "output_type": "stream",
     "text": [
      "Testing on dataset 'intermediate_algebra' with levels [1, 2, 3, 4, 5].\n",
      "Percentage complete: 0.0%\n",
      "Percentage complete: 10.0%\n",
      "Percentage complete: 20.0%\n",
      "Percentage complete: 30.0%\n",
      "Percentage complete: 40.0%\n",
      "Percentage complete: 50.0%\n",
      "Percentage complete: 60.0%\n",
      "Percentage complete: 70.0%\n",
      "Percentage complete: 80.0%\n",
      "Percentage complete: 90.0%\n",
      "Correctly Solved Problems: [2, 0, 0, 1, 0]\n",
      "Total Number of Problems: [2, 2, 2, 2, 2]\n",
      "Problems where Coding execution fails: [1, 0, 1, 2, 2]\n",
      "Problems where Judging LLM fails: [0, 0, 0, 0, 0]\n"
     ]
    }
   ],
   "source": [
    "test_class(3)"
   ]
  },
  {
   "cell_type": "code",
   "execution_count": 17,
   "metadata": {},
   "outputs": [
    {
     "name": "stdout",
     "output_type": "stream",
     "text": [
      "Testing on dataset 'number_theory' with levels [1, 2, 3, 4, 5].\n",
      "Percentage complete: 0.0%\n",
      "Percentage complete: 10.0%\n",
      "Percentage complete: 20.0%\n",
      "Percentage complete: 30.0%\n",
      "Percentage complete: 40.0%\n",
      "Percentage complete: 50.0%\n",
      "Percentage complete: 60.0%\n",
      "Percentage complete: 70.0%\n",
      "Percentage complete: 80.0%\n",
      "Percentage complete: 90.0%\n",
      "Correctly Solved Problems: [2, 0, 1, 0, 0]\n",
      "Total Number of Problems: [2, 2, 2, 2, 2]\n",
      "Problems where Coding execution fails: [0, 2, 0, 2, 2]\n",
      "Problems where Judging LLM fails: [0, 0, 0, 0, 0]\n"
     ]
    }
   ],
   "source": [
    "test_class(4)"
   ]
  },
  {
   "cell_type": "code",
   "execution_count": 18,
   "metadata": {},
   "outputs": [
    {
     "name": "stdout",
     "output_type": "stream",
     "text": [
      "Testing on dataset 'prealgebra' with levels [1, 2, 3, 4, 5].\n",
      "Percentage complete: 0.0%\n",
      "Percentage complete: 10.0%\n",
      "Percentage complete: 20.0%\n",
      "Percentage complete: 30.0%\n",
      "Percentage complete: 40.0%\n",
      "Percentage complete: 50.0%\n",
      "Percentage complete: 60.0%\n",
      "Percentage complete: 70.0%\n",
      "Percentage complete: 80.0%\n",
      "Percentage complete: 90.0%\n",
      "Correctly Solved Problems: [0, 0, 1, 0, 0]\n",
      "Total Number of Problems: [2, 2, 2, 2, 2]\n",
      "Problems where Coding execution fails: [0, 1, 0, 0, 0]\n",
      "Problems where Judging LLM fails: [0, 0, 0, 0, 0]\n"
     ]
    }
   ],
   "source": [
    "test_class(5)"
   ]
  },
  {
   "cell_type": "code",
   "execution_count": 4,
   "metadata": {},
   "outputs": [
    {
     "name": "stdout",
     "output_type": "stream",
     "text": [
      "Testing on dataset 'precalculus' with levels [1, 2, 3, 4, 5].\n",
      "Percentage complete: 0.0%\n",
      "Percentage complete: 10.0%\n",
      "Percentage complete: 20.0%\n",
      "Percentage complete: 30.0%\n",
      "Percentage complete: 40.0%\n",
      "Percentage complete: 50.0%\n",
      "Percentage complete: 60.0%\n",
      "Percentage complete: 70.0%\n",
      "Percentage complete: 80.0%\n",
      "Percentage complete: 90.0%\n",
      "Correctly Solved Problems: [2, 1, 1, 1, 0]\n",
      "Total Number of Problems: [2, 2, 2, 2, 2]\n",
      "Problems where Coding execution fails: [1, 1, 0, 1, 0]\n",
      "Problems where Judging LLM fails: [0, 0, 0, 0, 0]\n"
     ]
    }
   ],
   "source": [
    "test_class(6)"
   ]
  },
  {
   "cell_type": "markdown",
   "metadata": {},
   "source": [
    "## LLM = \"gemma-7b-it\""
   ]
  },
  {
   "cell_type": "code",
   "execution_count": 2,
   "metadata": {},
   "outputs": [],
   "source": [
    "# Define the models to use\n",
    "CODING_LLM = \"deepseek-coder:6.7b-instruct-q8_0\"\n",
    "MAIN_SOLVER_LLM = \"gemma-7b-it\"\n",
    "JUDGING_LLM = \"gpt-3.5-turbo\"\n",
    "\n",
    "# Use RAG\n",
    "use_rag = True"
   ]
  },
  {
   "cell_type": "code",
   "execution_count": 3,
   "metadata": {},
   "outputs": [],
   "source": [
    "def test_class(problem_class_number):\n",
    "    problem_class = ALL_PROBLEM_CLASSES[problem_class_number]\n",
    "    dataset_path = os.path.join(\n",
    "        os.getcwd(), \"merged_dataset\", \"test\", problem_class, \"final.json\"\n",
    "    )\n",
    "    dataset = json.load(open(dataset_path))\n",
    "    correct_num, prob_num, fail_coding_num, fail_judging_num = test_accuracy(\n",
    "        data_class=problem_class,\n",
    "        dataset=dataset,\n",
    "        coding_llm=CODING_LLM,\n",
    "        main_solver_llm=MAIN_SOLVER_LLM,\n",
    "        judging_llm=JUDGING_LLM,\n",
    "        levels=[1, 2, 3, 4, 5],\n",
    "        use_rag=use_rag,\n",
    "        logging_level=logging.ERROR,\n",
    "    )\n",
    "    print(f\"Correctly Solved Problems: {correct_num}\")\n",
    "    print(f\"Total Number of Problems: {prob_num}\")\n",
    "    print(f\"Problems where Coding execution fails: {fail_coding_num}\")\n",
    "    print(f\"Problems where Judging LLM fails: {fail_judging_num}\")"
   ]
  },
  {
   "cell_type": "code",
   "execution_count": 4,
   "metadata": {},
   "outputs": [
    {
     "name": "stdout",
     "output_type": "stream",
     "text": [
      "Testing on dataset 'algebra' with levels [1, 2, 3, 4, 5].\n",
      "Percentage complete: 0.0%\n",
      "Percentage complete: 10.0%\n",
      "Percentage complete: 20.0%\n",
      "Percentage complete: 30.0%\n",
      "Percentage complete: 40.0%\n",
      "Percentage complete: 50.0%\n",
      "Percentage complete: 60.0%\n",
      "Percentage complete: 70.0%\n",
      "Percentage complete: 80.0%\n",
      "Percentage complete: 90.0%\n",
      "Correctly Solved Problems: [2, 1, 1, 0, 1]\n",
      "Total Number of Problems: [2, 2, 2, 2, 2]\n",
      "Problems where Coding execution fails: [0, 0, 1, 0, 1]\n",
      "Problems where Judging LLM fails: [0, 0, 0, 0, 0]\n"
     ]
    }
   ],
   "source": [
    "test_class(0)"
   ]
  },
  {
   "cell_type": "code",
   "execution_count": 5,
   "metadata": {},
   "outputs": [
    {
     "name": "stdout",
     "output_type": "stream",
     "text": [
      "Testing on dataset 'counting_and_probability' with levels [1, 2, 3, 4, 5].\n",
      "Percentage complete: 0.0%\n",
      "Percentage complete: 10.0%\n",
      "Percentage complete: 20.0%\n",
      "Percentage complete: 30.0%\n",
      "Percentage complete: 40.0%\n",
      "Percentage complete: 50.0%\n",
      "Percentage complete: 60.0%\n",
      "Percentage complete: 70.0%\n",
      "Percentage complete: 80.0%\n",
      "Percentage complete: 90.0%\n",
      "Correctly Solved Problems: [1, 1, 0, 1, 0]\n",
      "Total Number of Problems: [2, 2, 2, 2, 2]\n",
      "Problems where Coding execution fails: [0, 2, 1, 0, 2]\n",
      "Problems where Judging LLM fails: [0, 0, 0, 0, 0]\n"
     ]
    }
   ],
   "source": [
    "test_class(1)"
   ]
  },
  {
   "cell_type": "code",
   "execution_count": 4,
   "metadata": {},
   "outputs": [
    {
     "name": "stdout",
     "output_type": "stream",
     "text": [
      "Testing on dataset 'geometry' with levels [1, 2, 3, 4, 5].\n",
      "Percentage complete: 0.0%\n",
      "Percentage complete: 10.0%\n",
      "Percentage complete: 20.0%\n",
      "Percentage complete: 30.0%\n",
      "Percentage complete: 40.0%\n",
      "Percentage complete: 50.0%\n",
      "Percentage complete: 60.0%\n",
      "Percentage complete: 70.0%\n",
      "Percentage complete: 80.0%\n",
      "Percentage complete: 90.0%\n",
      "Correctly Solved Problems: [1, 2, 0, 0, 0]\n",
      "Total Number of Problems: [2, 2, 2, 2, 2]\n",
      "Problems where Coding execution fails: [0, 0, 1, 1, 1]\n",
      "Problems where Judging LLM fails: [0, 0, 0, 0, 0]\n"
     ]
    }
   ],
   "source": [
    "test_class(2)"
   ]
  },
  {
   "cell_type": "code",
   "execution_count": 4,
   "metadata": {},
   "outputs": [
    {
     "name": "stdout",
     "output_type": "stream",
     "text": [
      "Testing on dataset 'intermediate_algebra' with levels [1, 2, 3, 4, 5].\n",
      "Percentage complete: 0.0%\n",
      "Percentage complete: 10.0%\n",
      "Percentage complete: 20.0%\n",
      "Percentage complete: 30.0%\n",
      "Percentage complete: 40.0%\n",
      "Percentage complete: 50.0%\n",
      "Percentage complete: 60.0%\n",
      "Percentage complete: 70.0%\n",
      "Percentage complete: 80.0%\n",
      "Percentage complete: 90.0%\n",
      "Correctly Solved Problems: [1, 0, 1, 0, 0]\n",
      "Total Number of Problems: [2, 2, 2, 2, 2]\n",
      "Problems where Coding execution fails: [1, 1, 1, 2, 1]\n",
      "Problems where Judging LLM fails: [0, 0, 0, 0, 0]\n"
     ]
    }
   ],
   "source": [
    "test_class(3)"
   ]
  },
  {
   "cell_type": "code",
   "execution_count": null,
   "metadata": {},
   "outputs": [
    {
     "name": "stdout",
     "output_type": "stream",
     "text": [
      "Testing on dataset 'number_theory' with levels [1, 2, 3, 4, 5].\n",
      "Percentage complete: 0.0%\n",
      "Percentage complete: 10.0%\n",
      "Percentage complete: 20.0%\n",
      "Percentage complete: 30.0%\n",
      "Percentage complete: 40.0%\n",
      "Percentage complete: 50.0%\n",
      "Percentage complete: 60.0%\n",
      "Percentage complete: 70.0%\n",
      "Percentage complete: 80.0%\n",
      "Percentage complete: 90.0%\n",
      "Correctly Solved Problems: [1, 0, 1, 0, 0]\n",
      "Total Number of Problems: [2, 2, 2, 2, 2]\n",
      "Problems where Coding execution fails: [0, 2, 1, 1, 2]\n",
      "Problems where Judging LLM fails: [0, 0, 0, 0, 0]\n"
     ]
    }
   ],
   "source": [
    "test_class(4)"
   ]
  },
  {
   "cell_type": "code",
   "execution_count": 5,
   "metadata": {},
   "outputs": [
    {
     "name": "stdout",
     "output_type": "stream",
     "text": [
      "Testing on dataset 'prealgebra' with levels [1, 2, 3, 4, 5].\n",
      "Percentage complete: 0.0%\n",
      "Percentage complete: 10.0%\n",
      "Percentage complete: 20.0%\n",
      "Percentage complete: 30.0%\n",
      "Percentage complete: 40.0%\n",
      "Percentage complete: 50.0%\n",
      "Percentage complete: 60.0%\n",
      "Percentage complete: 70.0%\n",
      "Percentage complete: 80.0%\n",
      "Percentage complete: 90.0%\n",
      "Correctly Solved Problems: [1, 1, 0, 0, 0]\n",
      "Total Number of Problems: [2, 2, 2, 2, 2]\n",
      "Problems where Coding execution fails: [0, 1, 0, 0, 0]\n",
      "Problems where Judging LLM fails: [0, 0, 0, 0, 0]\n"
     ]
    }
   ],
   "source": [
    "test_class(5)"
   ]
  },
  {
   "cell_type": "code",
   "execution_count": 6,
   "metadata": {},
   "outputs": [
    {
     "name": "stdout",
     "output_type": "stream",
     "text": [
      "Testing on dataset 'precalculus' with levels [1, 2, 3, 4, 5].\n",
      "Percentage complete: 0.0%\n",
      "Percentage complete: 10.0%\n",
      "Percentage complete: 20.0%\n",
      "Percentage complete: 30.0%\n",
      "Percentage complete: 40.0%\n",
      "Percentage complete: 50.0%\n",
      "Percentage complete: 60.0%\n",
      "Percentage complete: 70.0%\n",
      "Percentage complete: 80.0%\n",
      "Percentage complete: 90.0%\n",
      "Correctly Solved Problems: [0, 0, 2, 1, 0]\n",
      "Total Number of Problems: [2, 2, 2, 2, 2]\n",
      "Problems where Coding execution fails: [1, 1, 0, 0, 0]\n",
      "Problems where Judging LLM fails: [0, 0, 0, 0, 0]\n"
     ]
    }
   ],
   "source": [
    "test_class(6)"
   ]
  },
  {
   "cell_type": "code",
   "execution_count": null,
   "metadata": {},
   "outputs": [],
   "source": []
  }
 ],
 "metadata": {
  "kernelspec": {
   "display_name": ".venv",
   "language": "python",
   "name": "python3"
  },
  "language_info": {
   "codemirror_mode": {
    "name": "ipython",
    "version": 3
   },
   "file_extension": ".py",
   "mimetype": "text/x-python",
   "name": "python",
   "nbconvert_exporter": "python",
   "pygments_lexer": "ipython3",
   "version": "3.11.5"
  }
 },
 "nbformat": 4,
 "nbformat_minor": 2
}
