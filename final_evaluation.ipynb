{
 "cells": [
  {
   "cell_type": "code",
   "execution_count": null,
   "metadata": {},
   "outputs": [],
   "source": [
    "!pip install -r requirements.txt"
   ]
  },
  {
   "cell_type": "markdown",
   "metadata": {},
   "source": [
    "ALL_PROBLEM_CLASSES = [\n",
    "    \"algebra\",\n",
    "    \"counting_and_probability\",\n",
    "    \"geometry\",\n",
    "    \"intermediate_algebra\",\n",
    "    \"number_theory\",\n",
    "    \"prealgebra\",\n",
    "    \"precalculus\",\n",
    "]"
   ]
  },
  {
   "cell_type": "code",
   "execution_count": 1,
   "metadata": {},
   "outputs": [],
   "source": [
    "import logging\n",
    "import json\n",
    "from testing_our_method import test_accuracy\n",
    "from constants import ALL_PROBLEM_CLASSES\n",
    "import os\n",
    "\n",
    "os.environ[\"TOKENIZERS_PARALLELISM\"] = \"false\""
   ]
  },
  {
   "cell_type": "markdown",
   "metadata": {},
   "source": [
    "LLMS TO TRY = [\n",
    "    \"llama3-70b-8192\",\n",
    "    \"llama3-8b-8192\",\n",
    "    \"mixtral-8x7b-32768\",\n",
    "    \"gemma-7b-it\",\n",
    "]"
   ]
  },
  {
   "cell_type": "code",
   "execution_count": 2,
   "metadata": {},
   "outputs": [],
   "source": [
    "# Define the models to use\n",
    "CODING_LLM = \"deepseek-coder:6.7b-instruct-q8_0\"\n",
    "MAIN_SOLVER_LLM = \"llama3-70b-8192\"\n",
    "JUDGING_LLM = \"gpt-3.5-turbo\"\n",
    "\n",
    "# Use RAG\n",
    "use_rag = True"
   ]
  },
  {
   "cell_type": "code",
   "execution_count": 3,
   "metadata": {},
   "outputs": [],
   "source": [
    "def test_class(problem_class_number):\n",
    "    problem_class = ALL_PROBLEM_CLASSES[problem_class_number]\n",
    "    dataset_path = os.path.join(\n",
    "        os.getcwd(), \"merged_dataset\", \"test\", problem_class, \"final.json\"\n",
    "    )\n",
    "    dataset = json.load(open(dataset_path))\n",
    "    correct_num, prob_num, fail_coding_num, fail_judging_num = test_accuracy(\n",
    "        data_class=problem_class,\n",
    "        dataset=dataset,\n",
    "        coding_llm=CODING_LLM,\n",
    "        main_solver_llm=MAIN_SOLVER_LLM,\n",
    "        judging_llm=JUDGING_LLM,\n",
    "        levels=[1, 2, 3, 4, 5],\n",
    "        use_rag=use_rag,\n",
    "        logging_level=logging.ERROR,\n",
    "    )\n",
    "    print(f\"Correctly Solved Problems: {correct_num}\")\n",
    "    print(f\"Total Number of Problems: {prob_num}\")\n",
    "    print(f\"Problems where Coding execution fails: {fail_coding_num}\")\n",
    "    print(f\"Problems where Judging LLM fails: {fail_judging_num}\")"
   ]
  },
  {
   "cell_type": "code",
   "execution_count": null,
   "metadata": {},
   "outputs": [],
   "source": [
    "test_class(0)"
   ]
  },
  {
   "cell_type": "code",
   "execution_count": null,
   "metadata": {},
   "outputs": [],
   "source": [
    "test_class(1)"
   ]
  },
  {
   "cell_type": "code",
   "execution_count": null,
   "metadata": {},
   "outputs": [],
   "source": [
    "test_class(2)"
   ]
  },
  {
   "cell_type": "code",
   "execution_count": null,
   "metadata": {},
   "outputs": [],
   "source": [
    "test_class(3)"
   ]
  },
  {
   "cell_type": "code",
   "execution_count": null,
   "metadata": {},
   "outputs": [],
   "source": [
    "test_class(4)"
   ]
  },
  {
   "cell_type": "code",
   "execution_count": null,
   "metadata": {},
   "outputs": [],
   "source": [
    "test_class(5)"
   ]
  },
  {
   "cell_type": "code",
   "execution_count": null,
   "metadata": {},
   "outputs": [],
   "source": [
    "test_class(6)"
   ]
  }
 ],
 "metadata": {
  "kernelspec": {
   "display_name": ".venv",
   "language": "python",
   "name": "python3"
  },
  "language_info": {
   "codemirror_mode": {
    "name": "ipython",
    "version": 3
   },
   "file_extension": ".py",
   "mimetype": "text/x-python",
   "name": "python",
   "nbconvert_exporter": "python",
   "pygments_lexer": "ipython3",
   "version": "3.11.6"
  }
 },
 "nbformat": 4,
 "nbformat_minor": 2
}
