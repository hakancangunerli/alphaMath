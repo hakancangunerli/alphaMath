{
 "cells": [
  {
   "cell_type": "code",
   "execution_count": null,
   "metadata": {},
   "outputs": [],
   "source": [
    "!pip install -r requirements.txt"
   ]
  },
  {
   "cell_type": "code",
   "execution_count": 1,
   "metadata": {},
   "outputs": [],
   "source": [
    "import logging\n",
    "from testing_our_method import test_accuracy"
   ]
  },
  {
   "cell_type": "code",
   "execution_count": 2,
   "metadata": {},
   "outputs": [],
   "source": [
    "from constants import ALL_PROBLEM_CLASSES"
   ]
  },
  {
   "cell_type": "code",
   "execution_count": 3,
   "metadata": {},
   "outputs": [],
   "source": [
    "import os\n",
    "os.environ[\"TOKENIZERS_PARALLELISM\"] = \"false\""
   ]
  },
  {
   "cell_type": "code",
   "execution_count": 5,
   "metadata": {},
   "outputs": [
    {
     "name": "stdout",
     "output_type": "stream",
     "text": [
      "Testing on dataset 'algebra' with levels [1, 2, 3, 4, 5].\n",
      "Level 1: 1 problem(s) sampled\n",
      "Level 2: 1 problem(s) sampled\n",
      "Level 3: 0 problem(s) sampled\n",
      "Level 4: 0 problem(s) sampled\n",
      "Level 5: 0 problem(s) sampled\n"
     ]
    }
   ],
   "source": [
    "# Test\n",
    "print(\n",
    "    test_accuracy(\n",
    "        data_class=\"algebra\",\n",
    "        num_problems=2,\n",
    "        coding_llm=\"codegemma\",\n",
    "        main_solver_llm=\"llama3-70b-8192\",\n",
    "        judging_llm=\"llama3-70b-8192\",\n",
    "        levels=[1, 2, 3, 4, 5],\n",
    "        use_rag=True,\n",
    "        logging_level=logging.DEBUG,\n",
    "    )\n",
    ")"
   ]
  },
  {
   "cell_type": "code",
   "execution_count": null,
   "metadata": {},
   "outputs": [],
   "source": [
    "for problem_class in ALL_PROBLEM_CLASSES:\n",
    "    acc = test_accuracy(\n",
    "        data_class=problem_class,\n",
    "        num_problems=100,\n",
    "        coding_llm=\"llama3-70b-8192\",\n",
    "        main_solver_llm=\"llama3-70b-8192\",\n",
    "        judging_llm=\"llama3-70b-8192\",\n",
    "        levels=[1, 2, 3, 4, 5],\n",
    "        use_rag=True,\n",
    "        logging_level=logging.ERROR,\n",
    "    )\n",
    "    # Weighted average of accuracy with most weightage to the highest level\n",
    "    mean_acc = sum([acc[i] * i for i in range(1, len(acc))]) / sum(range(1, len(acc)))\n",
    "    print(f\"Weighted Mean Accuracy for {problem_class}: {mean_acc}\")"
   ]
  },
  {
   "cell_type": "code",
   "execution_count": null,
   "metadata": {},
   "outputs": [],
   "source": []
  }
 ],
 "metadata": {
  "kernelspec": {
   "display_name": ".venv",
   "language": "python",
   "name": "python3"
  },
  "language_info": {
   "codemirror_mode": {
    "name": "ipython",
    "version": 3
   },
   "file_extension": ".py",
   "mimetype": "text/x-python",
   "name": "python",
   "nbconvert_exporter": "python",
   "pygments_lexer": "ipython3",
   "version": "3.11.6"
  }
 },
 "nbformat": 4,
 "nbformat_minor": 2
}
