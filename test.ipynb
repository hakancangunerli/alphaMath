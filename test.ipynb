{
 "cells": [
  {
   "cell_type": "code",
   "execution_count": 1,
   "id": "1b24497d",
   "metadata": {},
   "outputs": [
    {
     "name": "stdout",
     "output_type": "stream",
     "text": [
      "Defaulting to user installation because normal site-packages is not writeable\n",
      "Requirement already satisfied: openai in ./.local/lib/python3.9/site-packages (1.23.6)\n",
      "Requirement already satisfied: ollama in ./.local/lib/python3.9/site-packages (0.1.8)\n",
      "Requirement already satisfied: PyYAML in ./.local/lib/python3.9/site-packages (6.0.1)\n",
      "Requirement already satisfied: groq in ./.local/lib/python3.9/site-packages (0.5.0)\n",
      "Requirement already satisfied: langchain in ./.local/lib/python3.9/site-packages (0.1.16)\n",
      "Requirement already satisfied: langchain_community in ./.local/lib/python3.9/site-packages (0.0.34)\n",
      "Requirement already satisfied: ragas in ./.local/lib/python3.9/site-packages (0.1.7)\n",
      "Requirement already satisfied: sympy in ./.local/lib/python3.9/site-packages (1.12)\n",
      "Requirement already satisfied: sentence-transformers in ./.local/lib/python3.9/site-packages (2.7.0)\n",
      "Requirement already satisfied: chromadb in ./.local/lib/python3.9/site-packages (0.5.0)\n",
      "Collecting accelerate\n",
      "  Downloading accelerate-0.29.3-py3-none-any.whl (297 kB)\n",
      "\u001b[2K     \u001b[90m━━━━━━━━━━━━━━━━━━━━━━━━━━━━━━━━━━━━━━━\u001b[0m \u001b[32m297.6/297.6 kB\u001b[0m \u001b[31m5.9 MB/s\u001b[0m eta \u001b[36m0:00:00\u001b[0ma \u001b[36m0:00:01\u001b[0m\n",
      "\u001b[?25hCollecting typing-extensions<5,>=4.7\n",
      "  Using cached typing_extensions-4.11.0-py3-none-any.whl (34 kB)\n",
      "Requirement already satisfied: httpx<1,>=0.23.0 in ./.local/lib/python3.9/site-packages (from openai) (0.27.0)\n",
      "Requirement already satisfied: distro<2,>=1.7.0 in ./.local/lib/python3.9/site-packages (from openai) (1.9.0)\n",
      "Requirement already satisfied: anyio<5,>=3.5.0 in ./.local/lib/python3.9/site-packages (from openai) (4.3.0)\n",
      "Requirement already satisfied: sniffio in ./.local/lib/python3.9/site-packages (from openai) (1.3.1)\n",
      "Requirement already satisfied: pydantic<3,>=1.9.0 in ./.local/lib/python3.9/site-packages (from openai) (2.7.1)\n",
      "Requirement already satisfied: tqdm>4 in ./.local/lib/python3.9/site-packages (from openai) (4.66.2)\n",
      "Requirement already satisfied: requests<3,>=2 in /storage/pace-apps/manual/packages/pytorch/1.12.0/lib/python3.9/site-packages (from langchain) (2.28.1)\n",
      "Requirement already satisfied: langchain-core<0.2.0,>=0.1.42 in ./.local/lib/python3.9/site-packages (from langchain) (0.1.46)\n",
      "Requirement already satisfied: langsmith<0.2.0,>=0.1.17 in ./.local/lib/python3.9/site-packages (from langchain) (0.1.51)\n",
      "Requirement already satisfied: jsonpatch<2.0,>=1.33 in ./.local/lib/python3.9/site-packages (from langchain) (1.33)\n",
      "Requirement already satisfied: langchain-text-splitters<0.1,>=0.0.1 in ./.local/lib/python3.9/site-packages (from langchain) (0.0.1)\n",
      "Requirement already satisfied: SQLAlchemy<3,>=1.4 in ./.local/lib/python3.9/site-packages (from langchain) (2.0.29)\n",
      "Requirement already satisfied: dataclasses-json<0.7,>=0.5.7 in ./.local/lib/python3.9/site-packages (from langchain) (0.6.4)\n",
      "Requirement already satisfied: numpy<2,>=1 in /storage/pace-apps/manual/packages/pytorch/1.12.0/lib/python3.9/site-packages (from langchain) (1.22.3)\n",
      "Requirement already satisfied: tenacity<9.0.0,>=8.1.0 in ./.local/lib/python3.9/site-packages (from langchain) (8.2.3)\n",
      "Requirement already satisfied: async-timeout<5.0.0,>=4.0.0 in ./.local/lib/python3.9/site-packages (from langchain) (4.0.3)\n",
      "Requirement already satisfied: aiohttp<4.0.0,>=3.8.3 in ./.local/lib/python3.9/site-packages (from langchain) (3.9.5)\n",
      "Requirement already satisfied: appdirs in ./.local/lib/python3.9/site-packages (from ragas) (1.4.4)\n",
      "Requirement already satisfied: langchain-openai in ./.local/lib/python3.9/site-packages (from ragas) (0.1.3)\n",
      "Requirement already satisfied: tiktoken in ./.local/lib/python3.9/site-packages (from ragas) (0.6.0)\n",
      "Requirement already satisfied: pysbd>=0.3.4 in ./.local/lib/python3.9/site-packages (from ragas) (0.3.4)\n",
      "Requirement already satisfied: nest-asyncio in ./.local/lib/python3.9/site-packages (from ragas) (1.6.0)\n",
      "Requirement already satisfied: datasets in ./.local/lib/python3.9/site-packages (from ragas) (2.19.0)\n",
      "Requirement already satisfied: mpmath>=0.19 in ./.local/lib/python3.9/site-packages (from sympy) (1.3.0)\n",
      "Requirement already satisfied: huggingface-hub>=0.15.1 in ./.local/lib/python3.9/site-packages (from sentence-transformers) (0.22.2)\n",
      "Requirement already satisfied: scipy in ./.local/lib/python3.9/site-packages (from sentence-transformers) (1.13.0)\n",
      "Requirement already satisfied: Pillow in /storage/pace-apps/manual/packages/pytorch/1.12.0/lib/python3.9/site-packages (from sentence-transformers) (9.2.0)\n",
      "Requirement already satisfied: torch>=1.11.0 in /storage/pace-apps/manual/packages/pytorch/1.12.0/lib/python3.9/site-packages (from sentence-transformers) (1.12.0)\n",
      "Requirement already satisfied: transformers<5.0.0,>=4.34.0 in ./.local/lib/python3.9/site-packages (from sentence-transformers) (4.40.1)\n",
      "Requirement already satisfied: scikit-learn in ./.local/lib/python3.9/site-packages (from sentence-transformers) (1.4.2)\n",
      "Requirement already satisfied: pypika>=0.48.9 in ./.local/lib/python3.9/site-packages (from chromadb) (0.48.9)\n",
      "Requirement already satisfied: typer>=0.9.0 in ./.local/lib/python3.9/site-packages (from chromadb) (0.12.3)\n",
      "Requirement already satisfied: build>=1.0.3 in ./.local/lib/python3.9/site-packages (from chromadb) (1.2.1)\n",
      "Requirement already satisfied: bcrypt>=4.0.1 in ./.local/lib/python3.9/site-packages (from chromadb) (4.1.2)\n",
      "Requirement already satisfied: fastapi>=0.95.2 in ./.local/lib/python3.9/site-packages (from chromadb) (0.110.2)\n",
      "Requirement already satisfied: opentelemetry-instrumentation-fastapi>=0.41b0 in ./.local/lib/python3.9/site-packages (from chromadb) (0.45b0)\n",
      "Requirement already satisfied: uvicorn[standard]>=0.18.3 in ./.local/lib/python3.9/site-packages (from chromadb) (0.29.0)\n",
      "Requirement already satisfied: grpcio>=1.58.0 in ./.local/lib/python3.9/site-packages (from chromadb) (1.62.2)\n",
      "Requirement already satisfied: opentelemetry-exporter-otlp-proto-grpc>=1.2.0 in ./.local/lib/python3.9/site-packages (from chromadb) (1.24.0)\n",
      "Requirement already satisfied: opentelemetry-sdk>=1.2.0 in ./.local/lib/python3.9/site-packages (from chromadb) (1.24.0)\n",
      "Requirement already satisfied: chroma-hnswlib==0.7.3 in ./.local/lib/python3.9/site-packages (from chromadb) (0.7.3)\n",
      "Requirement already satisfied: onnxruntime>=1.14.1 in ./.local/lib/python3.9/site-packages (from chromadb) (1.16.3)\n",
      "Requirement already satisfied: mmh3>=4.0.1 in ./.local/lib/python3.9/site-packages (from chromadb) (4.1.0)\n",
      "Requirement already satisfied: opentelemetry-api>=1.2.0 in ./.local/lib/python3.9/site-packages (from chromadb) (1.24.0)\n",
      "Requirement already satisfied: orjson>=3.9.12 in ./.local/lib/python3.9/site-packages (from chromadb) (3.10.1)\n",
      "Requirement already satisfied: posthog>=2.4.0 in ./.local/lib/python3.9/site-packages (from chromadb) (3.5.0)\n",
      "Requirement already satisfied: overrides>=7.3.1 in ./.local/lib/python3.9/site-packages (from chromadb) (7.7.0)\n",
      "Requirement already satisfied: tokenizers>=0.13.2 in ./.local/lib/python3.9/site-packages (from chromadb) (0.19.1)\n",
      "Collecting numpy<2,>=1\n",
      "  Using cached numpy-1.26.4-cp39-cp39-manylinux_2_17_x86_64.manylinux2014_x86_64.whl (18.2 MB)\n",
      "Requirement already satisfied: importlib-resources in ./.local/lib/python3.9/site-packages (from chromadb) (6.4.0)\n",
      "Requirement already satisfied: kubernetes>=28.1.0 in ./.local/lib/python3.9/site-packages (from chromadb) (29.0.0)\n",
      "Requirement already satisfied: packaging>=20.0 in ./.local/lib/python3.9/site-packages (from accelerate) (23.2)\n",
      "Collecting psutil\n",
      "  Downloading psutil-5.9.8-cp36-abi3-manylinux_2_12_x86_64.manylinux2010_x86_64.manylinux_2_17_x86_64.manylinux2014_x86_64.whl (288 kB)\n",
      "\u001b[2K     \u001b[90m━━━━━━━━━━━━━━━━━━━━━━━━━━━━━━━━━━━━━━\u001b[0m \u001b[32m288.2/288.2 kB\u001b[0m \u001b[31m24.3 MB/s\u001b[0m eta \u001b[36m0:00:00\u001b[0m\n",
      "\u001b[?25hRequirement already satisfied: safetensors>=0.3.1 in ./.local/lib/python3.9/site-packages (from accelerate) (0.4.3)\n",
      "Requirement already satisfied: yarl<2.0,>=1.0 in ./.local/lib/python3.9/site-packages (from aiohttp<4.0.0,>=3.8.3->langchain) (1.9.4)\n",
      "Requirement already satisfied: frozenlist>=1.1.1 in ./.local/lib/python3.9/site-packages (from aiohttp<4.0.0,>=3.8.3->langchain) (1.4.1)\n",
      "Requirement already satisfied: aiosignal>=1.1.2 in ./.local/lib/python3.9/site-packages (from aiohttp<4.0.0,>=3.8.3->langchain) (1.3.1)\n",
      "Requirement already satisfied: multidict<7.0,>=4.5 in ./.local/lib/python3.9/site-packages (from aiohttp<4.0.0,>=3.8.3->langchain) (6.0.5)\n",
      "Requirement already satisfied: attrs>=17.3.0 in ./.local/lib/python3.9/site-packages (from aiohttp<4.0.0,>=3.8.3->langchain) (23.2.0)\n"
     ]
    },
    {
     "name": "stdout",
     "output_type": "stream",
     "text": [
      "Requirement already satisfied: idna>=2.8 in /storage/pace-apps/manual/packages/pytorch/1.12.0/lib/python3.9/site-packages (from anyio<5,>=3.5.0->openai) (3.3)\n",
      "Requirement already satisfied: exceptiongroup>=1.0.2 in ./.local/lib/python3.9/site-packages (from anyio<5,>=3.5.0->openai) (1.2.1)\n",
      "Requirement already satisfied: tomli>=1.1.0 in ./.local/lib/python3.9/site-packages (from build>=1.0.3->chromadb) (2.0.1)\n",
      "Requirement already satisfied: pyproject_hooks in ./.local/lib/python3.9/site-packages (from build>=1.0.3->chromadb) (1.0.0)\n",
      "Requirement already satisfied: importlib-metadata>=4.6 in ./.local/lib/python3.9/site-packages (from build>=1.0.3->chromadb) (7.0.0)\n",
      "Requirement already satisfied: typing-inspect<1,>=0.4.0 in ./.local/lib/python3.9/site-packages (from dataclasses-json<0.7,>=0.5.7->langchain) (0.9.0)\n",
      "Requirement already satisfied: marshmallow<4.0.0,>=3.18.0 in ./.local/lib/python3.9/site-packages (from dataclasses-json<0.7,>=0.5.7->langchain) (3.21.1)\n",
      "Requirement already satisfied: starlette<0.38.0,>=0.37.2 in ./.local/lib/python3.9/site-packages (from fastapi>=0.95.2->chromadb) (0.37.2)\n",
      "Requirement already satisfied: certifi in /storage/pace-apps/manual/packages/pytorch/1.12.0/lib/python3.9/site-packages (from httpx<1,>=0.23.0->openai) (2022.6.15)\n",
      "Requirement already satisfied: httpcore==1.* in ./.local/lib/python3.9/site-packages (from httpx<1,>=0.23.0->openai) (1.0.5)\n",
      "Requirement already satisfied: h11<0.15,>=0.13 in ./.local/lib/python3.9/site-packages (from httpcore==1.*->httpx<1,>=0.23.0->openai) (0.14.0)\n",
      "Requirement already satisfied: filelock in ./.local/lib/python3.9/site-packages (from huggingface-hub>=0.15.1->sentence-transformers) (3.13.4)\n",
      "Requirement already satisfied: fsspec>=2023.5.0 in ./.local/lib/python3.9/site-packages (from huggingface-hub>=0.15.1->sentence-transformers) (2024.3.1)\n",
      "Requirement already satisfied: jsonpointer>=1.9 in ./.local/lib/python3.9/site-packages (from jsonpatch<2.0,>=1.33->langchain) (2.4)\n",
      "Requirement already satisfied: urllib3>=1.24.2 in /storage/pace-apps/manual/packages/pytorch/1.12.0/lib/python3.9/site-packages (from kubernetes>=28.1.0->chromadb) (1.26.11)\n",
      "Requirement already satisfied: python-dateutil>=2.5.3 in ./.local/lib/python3.9/site-packages (from kubernetes>=28.1.0->chromadb) (2.9.0.post0)\n",
      "Requirement already satisfied: websocket-client!=0.40.0,!=0.41.*,!=0.42.*,>=0.32.0 in ./.local/lib/python3.9/site-packages (from kubernetes>=28.1.0->chromadb) (1.8.0)\n",
      "Requirement already satisfied: google-auth>=1.0.1 in ./.local/lib/python3.9/site-packages (from kubernetes>=28.1.0->chromadb) (2.29.0)\n",
      "Requirement already satisfied: six>=1.9.0 in /storage/pace-apps/manual/packages/pytorch/1.12.0/lib/python3.9/site-packages (from kubernetes>=28.1.0->chromadb) (1.16.0)\n",
      "Requirement already satisfied: oauthlib>=3.2.2 in ./.local/lib/python3.9/site-packages (from kubernetes>=28.1.0->chromadb) (3.2.2)\n",
      "Requirement already satisfied: requests-oauthlib in ./.local/lib/python3.9/site-packages (from kubernetes>=28.1.0->chromadb) (2.0.0)\n",
      "Requirement already satisfied: protobuf in ./.local/lib/python3.9/site-packages (from onnxruntime>=1.14.1->chromadb) (4.25.3)\n",
      "Requirement already satisfied: coloredlogs in ./.local/lib/python3.9/site-packages (from onnxruntime>=1.14.1->chromadb) (15.0.1)\n",
      "Requirement already satisfied: flatbuffers in ./.local/lib/python3.9/site-packages (from onnxruntime>=1.14.1->chromadb) (24.3.25)\n",
      "Requirement already satisfied: deprecated>=1.2.6 in ./.local/lib/python3.9/site-packages (from opentelemetry-api>=1.2.0->chromadb) (1.2.14)\n",
      "Requirement already satisfied: opentelemetry-exporter-otlp-proto-common==1.24.0 in ./.local/lib/python3.9/site-packages (from opentelemetry-exporter-otlp-proto-grpc>=1.2.0->chromadb) (1.24.0)\n",
      "Requirement already satisfied: opentelemetry-proto==1.24.0 in ./.local/lib/python3.9/site-packages (from opentelemetry-exporter-otlp-proto-grpc>=1.2.0->chromadb) (1.24.0)\n",
      "Requirement already satisfied: googleapis-common-protos~=1.52 in ./.local/lib/python3.9/site-packages (from opentelemetry-exporter-otlp-proto-grpc>=1.2.0->chromadb) (1.63.0)\n",
      "Requirement already satisfied: opentelemetry-util-http==0.45b0 in ./.local/lib/python3.9/site-packages (from opentelemetry-instrumentation-fastapi>=0.41b0->chromadb) (0.45b0)\n",
      "Requirement already satisfied: opentelemetry-instrumentation==0.45b0 in ./.local/lib/python3.9/site-packages (from opentelemetry-instrumentation-fastapi>=0.41b0->chromadb) (0.45b0)\n",
      "Requirement already satisfied: opentelemetry-instrumentation-asgi==0.45b0 in ./.local/lib/python3.9/site-packages (from opentelemetry-instrumentation-fastapi>=0.41b0->chromadb) (0.45b0)\n",
      "Requirement already satisfied: opentelemetry-semantic-conventions==0.45b0 in ./.local/lib/python3.9/site-packages (from opentelemetry-instrumentation-fastapi>=0.41b0->chromadb) (0.45b0)\n",
      "Requirement already satisfied: wrapt<2.0.0,>=1.0.0 in ./.local/lib/python3.9/site-packages (from opentelemetry-instrumentation==0.45b0->opentelemetry-instrumentation-fastapi>=0.41b0->chromadb) (1.16.0)\n",
      "Requirement already satisfied: setuptools>=16.0 in /storage/pace-apps/manual/packages/pytorch/1.12.0/lib/python3.9/site-packages (from opentelemetry-instrumentation==0.45b0->opentelemetry-instrumentation-fastapi>=0.41b0->chromadb) (63.2.0)\n",
      "Requirement already satisfied: asgiref~=3.0 in ./.local/lib/python3.9/site-packages (from opentelemetry-instrumentation-asgi==0.45b0->opentelemetry-instrumentation-fastapi>=0.41b0->chromadb) (3.8.1)\n",
      "Requirement already satisfied: backoff>=1.10.0 in ./.local/lib/python3.9/site-packages (from posthog>=2.4.0->chromadb) (2.2.1)\n",
      "Requirement already satisfied: monotonic>=1.5 in ./.local/lib/python3.9/site-packages (from posthog>=2.4.0->chromadb) (1.6)\n",
      "Requirement already satisfied: annotated-types>=0.4.0 in ./.local/lib/python3.9/site-packages (from pydantic<3,>=1.9.0->openai) (0.6.0)\n",
      "Requirement already satisfied: pydantic-core==2.18.2 in ./.local/lib/python3.9/site-packages (from pydantic<3,>=1.9.0->openai) (2.18.2)\n",
      "Requirement already satisfied: charset-normalizer<3,>=2 in /storage/pace-apps/manual/packages/pytorch/1.12.0/lib/python3.9/site-packages (from requests<3,>=2->langchain) (2.1.0)\n",
      "Requirement already satisfied: greenlet!=0.4.17 in ./.local/lib/python3.9/site-packages (from SQLAlchemy<3,>=1.4->langchain) (3.0.3)\n",
      "Requirement already satisfied: regex!=2019.12.17 in ./.local/lib/python3.9/site-packages (from transformers<5.0.0,>=4.34.0->sentence-transformers) (2024.4.16)\n",
      "Requirement already satisfied: click>=8.0.0 in ./.local/lib/python3.9/site-packages (from typer>=0.9.0->chromadb) (8.1.7)\n",
      "Requirement already satisfied: rich>=10.11.0 in ./.local/lib/python3.9/site-packages (from typer>=0.9.0->chromadb) (13.7.1)\n",
      "Requirement already satisfied: shellingham>=1.3.0 in ./.local/lib/python3.9/site-packages (from typer>=0.9.0->chromadb) (1.5.4)\n",
      "Requirement already satisfied: python-dotenv>=0.13 in ./.local/lib/python3.9/site-packages (from uvicorn[standard]>=0.18.3->chromadb) (1.0.1)\n",
      "Requirement already satisfied: uvloop!=0.15.0,!=0.15.1,>=0.14.0 in ./.local/lib/python3.9/site-packages (from uvicorn[standard]>=0.18.3->chromadb) (0.19.0)\n",
      "Requirement already satisfied: websockets>=10.4 in ./.local/lib/python3.9/site-packages (from uvicorn[standard]>=0.18.3->chromadb) (12.0)\n",
      "Requirement already satisfied: watchfiles>=0.13 in ./.local/lib/python3.9/site-packages (from uvicorn[standard]>=0.18.3->chromadb) (0.21.0)\n",
      "Requirement already satisfied: httptools>=0.5.0 in ./.local/lib/python3.9/site-packages (from uvicorn[standard]>=0.18.3->chromadb) (0.6.1)\n",
      "Requirement already satisfied: pandas in ./.local/lib/python3.9/site-packages (from datasets->ragas) (2.2.2)\n",
      "Requirement already satisfied: dill<0.3.9,>=0.3.0 in ./.local/lib/python3.9/site-packages (from datasets->ragas) (0.3.8)\n",
      "Requirement already satisfied: multiprocess in ./.local/lib/python3.9/site-packages (from datasets->ragas) (0.70.16)\n",
      "Requirement already satisfied: pyarrow>=12.0.0 in ./.local/lib/python3.9/site-packages (from datasets->ragas) (16.0.0)\n",
      "Requirement already satisfied: pyarrow-hotfix in ./.local/lib/python3.9/site-packages (from datasets->ragas) (0.6)\n",
      "Requirement already satisfied: xxhash in ./.local/lib/python3.9/site-packages (from datasets->ragas) (3.4.1)\n"
     ]
    },
    {
     "name": "stdout",
     "output_type": "stream",
     "text": [
      "Requirement already satisfied: zipp>=3.1.0 in ./.local/lib/python3.9/site-packages (from importlib-resources->chromadb) (3.18.1)\n",
      "Requirement already satisfied: joblib>=1.2.0 in ./.local/lib/python3.9/site-packages (from scikit-learn->sentence-transformers) (1.4.0)\n",
      "Requirement already satisfied: threadpoolctl>=2.0.0 in ./.local/lib/python3.9/site-packages (from scikit-learn->sentence-transformers) (3.4.0)\n",
      "Requirement already satisfied: cachetools<6.0,>=2.0.0 in ./.local/lib/python3.9/site-packages (from google-auth>=1.0.1->kubernetes>=28.1.0->chromadb) (5.3.3)\n",
      "Requirement already satisfied: rsa<5,>=3.1.4 in ./.local/lib/python3.9/site-packages (from google-auth>=1.0.1->kubernetes>=28.1.0->chromadb) (4.9)\n",
      "Requirement already satisfied: pyasn1-modules>=0.2.1 in ./.local/lib/python3.9/site-packages (from google-auth>=1.0.1->kubernetes>=28.1.0->chromadb) (0.4.0)\n",
      "Requirement already satisfied: pygments<3.0.0,>=2.13.0 in ./.local/lib/python3.9/site-packages (from rich>=10.11.0->typer>=0.9.0->chromadb) (2.17.2)\n",
      "Requirement already satisfied: markdown-it-py>=2.2.0 in ./.local/lib/python3.9/site-packages (from rich>=10.11.0->typer>=0.9.0->chromadb) (3.0.0)\n",
      "Requirement already satisfied: mypy-extensions>=0.3.0 in ./.local/lib/python3.9/site-packages (from typing-inspect<1,>=0.4.0->dataclasses-json<0.7,>=0.5.7->langchain) (1.0.0)\n",
      "Requirement already satisfied: humanfriendly>=9.1 in ./.local/lib/python3.9/site-packages (from coloredlogs->onnxruntime>=1.14.1->chromadb) (10.0)\n",
      "Requirement already satisfied: pytz>=2020.1 in ./.local/lib/python3.9/site-packages (from pandas->datasets->ragas) (2024.1)\n",
      "Requirement already satisfied: tzdata>=2022.7 in ./.local/lib/python3.9/site-packages (from pandas->datasets->ragas) (2024.1)\n",
      "Requirement already satisfied: mdurl~=0.1 in ./.local/lib/python3.9/site-packages (from markdown-it-py>=2.2.0->rich>=10.11.0->typer>=0.9.0->chromadb) (0.1.2)\n",
      "Requirement already satisfied: pyasn1<0.7.0,>=0.4.6 in ./.local/lib/python3.9/site-packages (from pyasn1-modules>=0.2.1->google-auth>=1.0.1->kubernetes>=28.1.0->chromadb) (0.6.0)\n",
      "Installing collected packages: typing-extensions, psutil, numpy, accelerate\n",
      "\u001b[33m  WARNING: The script f2py is installed in '/home/hice1/rsyeda6/.local/bin' which is not on PATH.\n",
      "  Consider adding this directory to PATH or, if you prefer to suppress this warning, use --no-warn-script-location.\u001b[0m\u001b[33m\n",
      "\u001b[0m\u001b[33m  WARNING: The scripts accelerate, accelerate-config, accelerate-estimate-memory and accelerate-launch are installed in '/home/hice1/rsyeda6/.local/bin' which is not on PATH.\n",
      "  Consider adding this directory to PATH or, if you prefer to suppress this warning, use --no-warn-script-location.\u001b[0m\u001b[33m\n",
      "\u001b[0mSuccessfully installed accelerate-0.29.3 numpy-1.26.4 psutil-5.9.8 typing-extensions-4.11.0\n"
     ]
    }
   ],
   "source": [
    "!pip install openai ollama PyYAML groq langchain langchain_community ragas sympy sentence-transformers chromadb accelerate"
   ]
  },
  {
   "cell_type": "code",
   "execution_count": 2,
   "id": "b60baf05",
   "metadata": {},
   "outputs": [
    {
     "name": "stderr",
     "output_type": "stream",
     "text": [
      "/home/hice1/rsyeda6/.local/lib/python3.9/site-packages/transformers/data/metrics/__init__.py:19: UserWarning: A NumPy version >=1.22.4 and <2.3.0 is required for this version of SciPy (detected version 1.22.3)\n",
      "  from scipy.stats import pearsonr, spearmanr\n"
     ]
    },
    {
     "data": {
      "application/vnd.jupyter.widget-view+json": {
       "model_id": "670944c3ad26466f84643547fa48f6ec",
       "version_major": 2,
       "version_minor": 0
      },
      "text/plain": [
       "model.safetensors:   0%|          | 0.00/4.40G [00:00<?, ?B/s]"
      ]
     },
     "metadata": {},
     "output_type": "display_data"
    },
    {
     "data": {
      "application/vnd.jupyter.widget-view+json": {
       "model_id": "1b7cf104780b4171bc6f932ddb96a21d",
       "version_major": 2,
       "version_minor": 0
      },
      "text/plain": [
       "generation_config.json:   0%|          | 0.00/129 [00:00<?, ?B/s]"
      ]
     },
     "metadata": {},
     "output_type": "display_data"
    }
   ],
   "source": [
    "from transformers import AutoTokenizer\n",
    "import transformers \n",
    "import torch\n",
    "model = \"PY007/TinyLlama-1.1B-step-50K-105b\"\n",
    "tokenizer = AutoTokenizer.from_pretrained(model)\n",
    "pipeline = transformers.pipeline(\n",
    "    \"text-generation\",\n",
    "    model=model,\n",
    "    torch_dtype=torch.float16,\n",
    "    device_map=\"auto\",\n",
    ")"
   ]
  },
  {
   "cell_type": "code",
   "execution_count": 9,
   "id": "2539306f",
   "metadata": {},
   "outputs": [
    {
     "name": "stdout",
     "output_type": "stream",
     "text": [
      "13.949688196182251\n",
      "Result: The TinyLlama project aims to pretrain a 1.1B Llama model on 3 trillion tokens. With some proper optimization, we can achieve this within a span of \"just\" 90 days using 16 A100-40G GPUs 🚀🚀. The training has started on 2023-09-01.\n",
      "<issue_comment>username_8: I am working with the same dataset that you provided but in different formats.\r\n",
      "\r\n",
      "I want to train my own data generator and have been looking at all the options available for generating data from scratch or converting it into format which is similar enough so as not to lose quality control when doing such things (like if there were multiple datasets/datasets). \r\n",
      "But having said that i was thinking about how would an external source feed your generated data? Is it possible to do something like tfidf + custom functions? For each example you show here they are already written by yourself - just need more examples :D <NAME>. Thanks!\r\n",
      "If anyone knows where could find information regarding what features should be used instead of those ones given above, please feel free to share :)!\n",
      "<issue_comment>username_7: @username_{\\'e}\\'tic Can You Please Help Me How To Get Data From Web API.My App Has Only 5M Images And It Doesn\\T In This Website There Are More Than One Image But Its Not Showing My Images Which Of These Two Imagines Should Be Displayed Firstly On Your Website When They Open Up That Imagine Also If Both Imgur Ids Will Have Same Value As Their URL Then We Need All Those Three Image Id Or None Would Work Better..Please Help me...thanks very much.........Sincerely\n",
      "<issue_closed> ----> https://stackoverflowincourierapi.appspot.com/#!/viewer/index&query={image}&type=images\r\n",
      "![](https://user-hdfs.sharepointonlinefileserver.net)\n",
      "<issue_comment>username_7: ### Suggested feature request ##\r\n",
      "For Example Given Here:-[Image id]=> [URL ]=> https:/githuburl.com/imgUrl/path/to/.+file.jpg &[File\n"
     ]
    }
   ],
   "source": [
    "# import the time module\n",
    "import time\n",
    "\n",
    "# get the current time in seconds since the epoch\n",
    "seconds = time.time()\n",
    "sequences = pipeline(\n",
    "    'The TinyLlama project aims to pretrain a 1.1B Llama model on 3 trillion tokens. With some proper optimization, we can achieve this within a span of \"just\" 90 days using 16 A100-40G GPUs 🚀🚀. The training has started on 2023-09-01.',\n",
    "    do_sample=True,\n",
    "    top_k=10,\n",
    "    num_return_sequences=1,\n",
    "    repetition_penalty=1.5,\n",
    "    eos_token_id=tokenizer.eos_token_id,\n",
    "    max_length=500,\n",
    ")\n",
    "\n",
    "print(time.time()-seconds)\n",
    "for seq in sequences:\n",
    "    print(f\"Result: {seq['generated_text']}\")\n"
   ]
  },
  {
   "cell_type": "code",
   "execution_count": 7,
   "id": "5e9e1e38",
   "metadata": {},
   "outputs": [],
   "source": [
    "pd=1"
   ]
  },
  {
   "cell_type": "code",
   "execution_count": null,
   "id": "f1745aec",
   "metadata": {},
   "outputs": [],
   "source": []
  }
 ],
 "metadata": {
  "kernelspec": {
   "display_name": "Python [conda env:root] *",
   "language": "python",
   "name": "conda-root-py"
  },
  "language_info": {
   "codemirror_mode": {
    "name": "ipython",
    "version": 3
   },
   "file_extension": ".py",
   "mimetype": "text/x-python",
   "name": "python",
   "nbconvert_exporter": "python",
   "pygments_lexer": "ipython3",
   "version": "3.9.12"
  }
 },
 "nbformat": 4,
 "nbformat_minor": 5
}
