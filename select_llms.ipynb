{
 "cells": [
  {
   "cell_type": "code",
   "execution_count": 55,
   "metadata": {},
   "outputs": [],
   "source": [
    "import os\n",
    "import openai\n",
    "import json\n",
    "import re\n",
    "openai.api_key = \"\" # Add your API key here"
   ]
  },
  {
   "cell_type": "code",
   "execution_count": 56,
   "metadata": {},
   "outputs": [
    {
     "data": {
      "text/plain": [
       "{'status': 'success'}"
      ]
     },
     "execution_count": 56,
     "metadata": {},
     "output_type": "execute_result"
    }
   ],
   "source": [
    "# optional. GPT is better\n",
    "import ollama\n",
    "ollama.pull(\"llama3\")\n",
    "ollama.pull(\"mistral\")\n",
    "ollama.pull(\"mixtral\")\n",
    "ollama.pull(\"gemma\")\n",
    "ollama.pull(\"vicuna\")"
   ]
  },
  {
   "cell_type": "code",
   "execution_count": null,
   "metadata": {},
   "outputs": [],
   "source": [
    "ROOT_PATH = os.getcwd()\n",
    "ROOT_PATH"
   ]
  },
  {
   "cell_type": "code",
   "execution_count": 58,
   "metadata": {},
   "outputs": [],
   "source": [
    "DEFAULT_JUDGE_LLM = \"llama3\"\n",
    "DEFAULT_SOLVER_LLM = \"llama3\"\n",
    "\n",
    "LLMS = [\"llama2\", \"llama3\", \"mistral\", \"mixtral\", \"gemma\", \"vicuna\"]"
   ]
  },
  {
   "cell_type": "code",
   "execution_count": 59,
   "metadata": {},
   "outputs": [],
   "source": [
    "pattern = re.compile(r'\\[asy\\].*?\\[/asy\\]', re.DOTALL)\n",
    "\n",
    "def remove_asy_tags(text):\n",
    "    \"\"\"\n",
    "    Remove the [asy] tags from the solution.\n",
    "    They are Asymptote code that are used for plotting, which are not relevant here.\"\"\"\n",
    "    global pattern\n",
    "    return re.sub(pattern, '', text)"
   ]
  },
  {
   "cell_type": "code",
   "execution_count": 60,
   "metadata": {},
   "outputs": [],
   "source": [
    "prompt_examples = [\n",
    "    # these examples come from the training set of MATH\n",
    "    # we will use the testing set to evaluate the performance\n",
    "    {\n",
    "        \"prob\": \"A point $(x,y)$ is randomly picked from inside the rectangle with vertices  $(0,0)$, $(3,0)$, $(3,2)$, and $(0,2)$.  What is the probability that  $x < y$?\",\n",
    "        \"sol\": \"The point $(x,y)$ satisfies $x < y$ if and only if it belongs to the shaded triangle bounded by the lines $x=y$, $y=2$, and $x=0$, the area of which is 2.  The rectangle has area 6, so the probability in question is $\\\\dfrac{2}{6} = \\\\boxed{\\\\dfrac{1}{3}}$.\\n\\n[asy]\\ndefaultpen(.7);\\ndraw((-1,0)--(5,0),Arrow);\\ndraw((0,-1)--(0,3),Arrow);\\nfor (int i=1; i<4; ++i) {\\ndraw((i,-0.1)--(i,0.1));\\n}\\nfill((0,0)--(0,2)--(2,2)--cycle,gray(0.7));\\ndraw((-0.1,1)--(0.1,1));\\ndraw((-.1,2)--(0,2));\\ndraw((3,0)--(3,2)--(0,2),linewidth(1.0));\\ndraw((-0.5,-0.5)--(2.8,2.8),dashed);\\n[/asy]\",\n",
    "        \"ans\": \"1/3\",\n",
    "        \"correct\": True,\n",
    "    },\n",
    "\n",
    "    {\n",
    "        \"prob\": \"Simplify $\\\\tan \\\\frac{\\\\pi}{24} + \\\\tan \\\\frac{7 \\\\pi}{24}.$\",\n",
    "        \"sol\": \"We can write\\n\\\\[\\\\tan \\\\frac{\\\\pi}{24} + \\\\tan \\\\frac{7 \\\\pi}{24} = \\\\frac{\\\\sin \\\\frac{\\\\pi}{24}}{\\\\cos \\\\frac{\\\\pi}{24}} + \\\\frac{\\\\sin \\\\frac{7 \\\\pi}{24}}{\\\\cos \\\\frac{7 \\\\pi}{24}} \\n= \\\\frac{\\\\sin \\\\frac{\\\\pi}{24} \\\\cos \\\\frac{7 \\\\pi}{24} + \\\\cos \\\\frac{\\\\pi}{24} \\\\sin \\\\frac{7 \\\\pi}{24}}{\\\\cos \\\\frac{\\\\pi}{24} \\\\cos \\\\frac{7 \\\\pi}{24}}.\\\\]By the angle addition formula and the product-to-sum formula,\\n\\\\begin{align*}\\n\\\\frac{\\\\sin \\\\frac{\\\\pi}{24} \\\\cos \\\\frac{7 \\\\pi}{24} + \\\\cos \\\\frac{\\\\pi}{24} \\\\sin \\\\frac{7 \\\\pi}{24}}{\\\\cos \\\\frac{\\\\pi}{24} \\\\cos \\\\frac{7 \\\\pi}{24}} &= \\\\frac{\\\\sin (\\\\frac{\\\\pi}{24} + \\\\frac{7 \\\\pi}{24})}{\\\\frac{1}{2} (\\\\cos \\\\frac{\\\\pi}{3} + \\\\cos \\\\frac{\\\\pi}{4})} \\\\\\\\\\n&= \\\\frac{2 \\\\sin \\\\frac{\\\\pi}{3}}{\\\\cos \\\\frac{\\\\pi}{3} + \\\\cos \\\\frac{\\\\pi}{4}} \\\\\\\\\\n&= \\\\frac{\\\\sqrt{3}}{\\\\frac{1}{2} + \\\\frac{\\\\sqrt{2}}{2}} \\\\\\\\\\n&= \\\\frac{2 \\\\sqrt{3}}{1 + \\\\sqrt{2}} \\\\\\\\\\n&= \\\\frac{2 \\\\sqrt{3} (\\\\sqrt{2} - 1)}{(\\\\sqrt{2} + 1)(\\\\sqrt{2} - 1)} \\\\\\\\\\n&= \\\\boxed{2 \\\\sqrt{6} - 2 \\\\sqrt{3}}.\\n\\\\end{align*}\",\n",
    "        \"ans\": \"2*sqrt(2)*(sqrt(3)-1)\",\n",
    "        \"correct\": False,\n",
    "    },\n",
    "\n",
    "    {\n",
    "        \"prob\": \"For real numbers $a,$ $b,$ and $c,$ the matrix\\n\\\\[\\\\begin{pmatrix} a & b & c \\\\\\\\ b & c & a \\\\\\\\ c & a & b \\\\end{pmatrix}\\\\]is not invertible.  List all possible values of\\n\\\\[\\\\frac{a}{b + c} + \\\\frac{b}{a + c} + \\\\frac{c}{a + b}.\\\\]\",\n",
    "        \"sol\": \"Since the matrix is not invertible, its determinant is 0, i.e.\\n\\\\[\\\\begin{vmatrix} a & b & c \\\\\\\\ b & c & a \\\\\\\\ c & a & b \\\\end{vmatrix} = 0.\\\\]The determinant expands as\\n\\\\begin{align*}\\n\\\\begin{vmatrix} a & b & c \\\\\\\\ b & c & a \\\\\\\\ c & a & b \\\\end{vmatrix} &= a \\\\begin{vmatrix} c & a \\\\\\\\ a & b \\\\end{vmatrix} - b \\\\begin{vmatrix} b & a \\\\\\\\ c & b \\\\end{vmatrix} + c \\\\begin{vmatrix} b & c \\\\\\\\ c & a \\\\end{vmatrix} \\\\\\\\\\n&= a(bc - a^2) - b(b^2 - ac) + c(ab - c^2) \\\\\\\\\\n&= 3abc - a^3 - b^3 - c^3.\\n\\\\end{align*}This factors as\\n\\\\[3abc - a^3 - b^3 - c^3 = -(a + b + c)(a^2 + b^2 + c^2 - ab - ac - bc),\\\\]so either $a + b + c = 0$ or $a^2 + b^2 + c^2 - ab - ac - bc = 0.$\\n\\nIf $a + b + c = 0,$ then\\n\\\\[\\\\frac{a}{b + c} + \\\\frac{b}{a + c} + \\\\frac{c}{a + b} = \\\\frac{a}{-a} + \\\\frac{b}{-b} + \\\\frac{c}{-c} = -3.\\\\]Now, suppose $a^2 + b^2 + c^2 - ab - ac - bc = 0.$  Then\\n\\\\begin{align*}\\n(a - b)^2 + (a - c)^2 + (b - c)^2 &= (a^2 - 2ab + b^2) + (a^2 - 2ac + c^2) + (b^2 - 2bc + c^2) \\\\\\\\\\n&= 2(a^2 + b^2 + c^2 - ab - ac - bc) \\\\\\\\\\n&= 0.\\n\\\\end{align*}This forces $a = b = c,$ so\\n\\\\[\\\\frac{a}{b + c} + \\\\frac{b}{a + c} + \\\\frac{c}{a + b} = \\\\frac{3}{2}.\\\\]Thus, the possible values of\\n\\\\[\\\\frac{a}{b + c} + \\\\frac{b}{a + c} + \\\\frac{c}{a + b}\\\\]are $\\\\boxed{\\\\frac{3}{2}}$ and $\\\\boxed{-3}.$\",\n",
    "        \"ans\": \"-3 and 1.5\",\n",
    "        \"correct\": True,\n",
    "    },\n",
    "]"
   ]
  },
  {
   "cell_type": "code",
   "execution_count": 61,
   "metadata": {},
   "outputs": [
    {
     "data": {
      "text/plain": [
       "True"
      ]
     },
     "execution_count": 61,
     "metadata": {},
     "output_type": "execute_result"
    }
   ],
   "source": [
    "def judge_correctness(prob:str, sol:str, ans:str,\n",
    "                      prompt_examples:str=prompt_examples,\n",
    "                      llm:str=\"gpt-3.5-turbo\"):\n",
    "    \"\"\"\n",
    "    parameters:\n",
    "    - prob: the problem\n",
    "    - sol: the solution\n",
    "    - ans: the student's answer\n",
    "    - prompt_examples: a list of dictionaries, each containing a problem, a solution, the student's answer, and whether the student's answer is correct\n",
    "    - llm: the language model to use.\n",
    "\n",
    "    return:\n",
    "        True if the student's answer is correct, False otherwise\n",
    "        If the LLM's response is invalid, raise an error (rarely happens for GPT but more common for Llama)\n",
    "    \"\"\"\n",
    "\n",
    "    instruct_query = \"\"\"\n",
    "Imagine that you are a high school math teacher correcting students' homework. You will be given three things: (1) a math problem in LaTeX, (2) a complete solution to this problem, in which the correct answer is wrapped in a box, i.e., \\\\boxed{answer} (note that there may be multiple boxes), and (3) the student's answer to this problem. These three items will all be wrapped in three backticks (```). Your task is to determine whether the student's answer is correct. If it is, you should respond with \"Yes\"; otherwise, you should respond with \"No\". DO NOT return anything other than \"Yes\" or \"No\".\n",
    "\n",
    "The student's answer is considered correct if it is mathematically equivalent to the final answer in the solution. The correct answer can be a real number, a symbolic formula, or any other mathematical items (e.g., a set, an interval, etc.). For example, if the final answer in the solution is $\\\\boxed{4}$, then the student's answer is considered correct if it is $4$, $4.0$, $4.00$, $\\\\frac{8}{2}$, etc, and is considered incorrect if it is $4.1$, $4.01$, $\\\\frac{1}{4}$, etc; if the final answer in the solution is $\\\\boxed{4x+5}$, then the student's answer is considered correct if it is $4*x+5$, $4\\\\times x+5.0$, $(8x+10)/2$, etc, and is considered incorrect if it is $4x+5.1$, $4y+5$, $4X+5$, etc.\n",
    "\n",
    "Here are some examples:\n",
    "\"\"\"\n",
    "\n",
    "    for i, ex in enumerate(prompt_examples, start=1):\n",
    "        instruct_query += f\"Example {i}:\\nQ: (1) Problem: ```{ex['prob']}``` (2) Solution: ```{remove_asy_tags(ex['sol'])}``` (3) Student's answer: ```{ex['ans']}```.\\n A: {'Yes' if ex['correct'] else 'No'}\\n\\n\"\n",
    "\n",
    "    user_query = (\n",
    "        \"Now, I want you to determine whether the student's answer is correct for the following problem.  Please make sure to ONLY answer in `YES` or `NO` without any mistake: \\nQ: (1) Problem: ```\"\n",
    "        + prob\n",
    "        + \"``` (2) Solution: ```\"\n",
    "        + sol\n",
    "        + \"``` (3) Student's answer: ```\"\n",
    "        + ans\n",
    "        + \"```.\\nA: \"\n",
    "    )\n",
    "\n",
    "    # print(f\"{instruct_query}\\n{user_query}\")\n",
    "\n",
    "    if llm in ['gpt-3.5',\"gpt-3.5-turbo\", \"gpt-4\"]:\n",
    "        response = openai.ChatCompletion.create(\n",
    "            model=llm,\n",
    "            messages=[{\"role\": \"system\", \"content\": instruct_query}, {\"role\": \"user\", \"content\": user_query}],\n",
    "            temperature=0\n",
    "            ).choices[0].message[\"content\"].lower()\n",
    "\n",
    "    elif llm in ['llama','llama2','llama3','codellama', 'vicuna']:\n",
    "        response = ollama.chat(model=llm,\n",
    "                               messages=[{\"role\": \"system\", \"content\": instruct_query}, {\"role\": \"user\", \"content\": user_query}])[\n",
    "            \"message\"\n",
    "        ][\"content\"].lower()\n",
    "    else:\n",
    "        raise NotImplementedError(\"Calling this LLM is not implemented\")\n",
    "\n",
    "    # print(f\"Response from the Judge LLM: {response}\")\n",
    "\n",
    "    if \"yes\" in response and \"no\" not in response:\n",
    "        return True\n",
    "    elif \"no\" in response and \"yes\" not in response:\n",
    "        return False\n",
    "    else:\n",
    "        raise ValueError(\"Invalid response from the LLM\")\n",
    "\n",
    "# test the function\n",
    "judge_correctness(\n",
    "    prob=\"Find the phase shift of the graph of $y = 2 \\\\sin \\\\left( 2x + \\\\frac{\\\\pi}{3} \\\\right).$\",\n",
    "    sol=\"Since the graph of $y = 2 \\\\sin \\\\left( 2x + \\\\frac{\\\\pi}{3} \\\\right)$ is the same as the graph of $y = 2 \\\\sin 2x$ shifted $\\\\frac{\\\\pi}{6}$ units to the left, the phase shift is $\\\\boxed{-\\\\frac{\\\\pi}{6}}.$\\n\\n[asy]import TrigMacros;\\n\\nsize(400);\\n\\nreal g(real x)\\n{\\n\\treturn 2*sin(2*x + pi/3);\\n}\\n\\nreal f(real x)\\n{\\n\\treturn 2*sin(2*x);\\n}\\n\\ndraw(graph(g,-2*pi,2*pi,n=700,join=operator ..),red);\\ndraw(graph(f,-2*pi,2*pi,n=700,join=operator ..));\\ntrig_axes(-2*pi,2*pi,-3,3,pi/2,1);\\nlayer();\\nrm_trig_labels(-4,4, 2);\\n[/asy]\",\n",
    "    ans=\"$-pi/6$\",\n",
    "    llm=DEFAULT_JUDGE_LLM\n",
    ")"
   ]
  },
  {
   "cell_type": "code",
   "execution_count": 62,
   "metadata": {},
   "outputs": [
    {
     "data": {
      "text/plain": [
       "\"To find the phase shift, we need to identify the constant term within the argument of the sine function. In this case, it's $\\\\frac{\\\\pi}{3}$.\\n\\nThe general form of a sinusoidal function is $y = A \\\\sin(B(x - C))$, where $A$ is the amplitude, $B$ is the frequency, and $C$ is the phase shift.\\n\\nComparing our given function with the general form, we can see that:\\n\\n* $A = 2$\\n* $B = 2$\\n* $C = \\\\frac{\\\\pi}{3}$\\n\\nThe phase shift, $C$, is the constant term within the argument of the sine function. Therefore, the phase shift of the graph of $y = 2 \\\\sin \\\\left( 2x + \\\\frac{\\\\pi}{3} \\\\right)$ is $\\\\boxed{\\\\frac{\\\\pi}{3}}$.\\n\\nHere's the solution in LaTeX format:\\n\\n```latex\\nThe phase shift, C, is the constant term within the argument of the sine function.\\nTherefore, the phase shift of the graph of $y = 2 \\\\sin \\\\left( 2x + \\\\frac{\\\\pi}{3} \\\\right)$ is $\\\\frac{\\\\pi}{3}$.\\n```\""
      ]
     },
     "execution_count": 62,
     "metadata": {},
     "output_type": "execute_result"
    }
   ],
   "source": [
    "def llm_solver(problem:str, data_class, solver_llm):\n",
    "    \"\"\"\n",
    "    parameters:\n",
    "    - problem: the problem to solve\n",
    "    - llm: the language model to use.\n",
    "\n",
    "    return:\n",
    "        the solution to the problem\n",
    "    \"\"\"\n",
    "    instruct_query = f\"\"\"Imagine you are a math expert especially in the field of {data_class}, who is solving a math problem in all seriousness during the exam. You will be given a math problem in LaTeX format, and your task is to provide a complete solution to this problem and show all the calculation steps. The problem will be wrapped in three backticks (```). Your solution should be detailed and clear, and it should be written in LaTeX format. You can assume that the problem is well-posed and has a unique solution. Be extremely accurate. No mistakes allowed.\"\"\"\n",
    "    user_query = f\"\"\"Here is the problem you need to solve:\\n\\n```\\n{problem}\\n```\\n\\n\"\"\"\n",
    "    if solver_llm in ['gpt-3.5',\"gpt-3.5-turbo\", \"gpt-4\"]:\n",
    "        response = openai.ChatCompletion.create(\n",
    "            model=solver_llm,\n",
    "            messages=[{\"role\": \"system\", \"content\": instruct_query}, {\"role\": \"user\", \"content\": user_query}],\n",
    "            temperature=0\n",
    "            ).choices[0].message[\"content\"].lower()\n",
    "    elif solver_llm in ['llama','llama2','llama3','codellama', 'mistral', 'mixtral']:\n",
    "        response = ollama.chat(model=solver_llm,\n",
    "                               messages=[{\"role\": \"system\", \"content\": instruct_query}, {\n",
    "                                   \"role\": \"user\", \"content\": user_query\n",
    "                               }])[\"message\"][\"content\"]\n",
    "    return response\n",
    "\n",
    "# test the function\n",
    "llm_solver(\n",
    "    problem=\"Find the phase shift of the graph of $y = 2 \\\\sin \\\\left( 2x + \\\\frac{\\\\pi}{3} \\\\right).$\",\n",
    "    data_class=\"algebra\",\n",
    "    solver_llm=DEFAULT_JUDGE_LLM\n",
    ")"
   ]
  },
  {
   "cell_type": "code",
   "execution_count": 63,
   "metadata": {},
   "outputs": [
    {
     "name": "stdout",
     "output_type": "stream",
     "text": [
      "Testing dataset algebra with levels [1, 2, 3, 4, 5]\n",
      "Testing problem 1469 of algebra\n",
      "Problem numbers at each level attempted to solve so far: [0, 1, 0, 0, 0]\n",
      "Correctly-solved problem numbers at each level so far: [0, 1, 0, 0, 0]\n",
      "Testing problem 402 of algebra\n",
      "Problem numbers at each level attempted to solve so far: [0, 2, 0, 0, 0]\n",
      "Correctly-solved problem numbers at each level so far: [0, 2, 0, 0, 0]\n"
     ]
    },
    {
     "data": {
      "text/plain": [
       "[0, 1.0, 0, 0, 0]"
      ]
     },
     "execution_count": 63,
     "metadata": {},
     "output_type": "execute_result"
    }
   ],
   "source": [
    "import random\n",
    "\n",
    "def test(solver,\n",
    "         data_class:str,\n",
    "         dataset:list,\n",
    "         solver_llm=None,\n",
    "         levels:list=[1,2,3,4,5],\n",
    "         judging_llm:str='gpt-3.5-turbo',\n",
    "         sample_size=None,\n",
    "         test_mode=False,\n",
    "    ):\n",
    "    \"\"\"\n",
    "    parameters:\n",
    "    - solver: the solver to be tested, returns a **string** of the answer\n",
    "    - data_class: the class of the data, must be in ['algebra','counting_and_probability','geometry','intermediate_algebra','number_theory','prealgebra','precalculus']\n",
    "    - args_solver: the arguments for the solver (if any)\n",
    "    - levels: the levels of the data, default is all 5 levels\n",
    "    - target_dir: the directory of the data (TODO: change to your own!)\n",
    "\n",
    "    return:\n",
    "    a list of the accuracy at all levels, whose first position is dummy. e.g., [0,0.9,0.8,0.7,0.6,0.5]\n",
    "    \"\"\"\n",
    "    assert data_class in ['algebra','counting_and_probability','geometry','intermediate_algebra','number_theory','prealgebra','precalculus'], \"Invalid data class\"\n",
    "    assert all([level in [1,2,3,4,5] for level in levels]), \"Levels must be in 1 to 5\"\n",
    "\n",
    "    print(f'Testing dataset {data_class} with levels {str(sorted(set(levels)))}')\n",
    "\n",
    "    prob_num=[0, 0, 0, 0, 0] # num of problems at each level\n",
    "    correct_num=[0, 0, 0, 0, 0] # num of correctly-solved problems at each level\n",
    "\n",
    "    # retry files that had errors in the first round\n",
    "    retry_files = []\n",
    "\n",
    "    # Randomly choose unique elements\n",
    "    selected_dataset = random.sample(dataset, sample_size)\n",
    "\n",
    "    for i in range(len(selected_dataset)):\n",
    "        if test_mode:\n",
    "            print(f\"Testing problem {selected_dataset[i]['filename']} of {data_class}\")\n",
    "\n",
    "        level = selected_dataset[i][\"level\"]\n",
    "        if level not in levels:\n",
    "            continue\n",
    "        prob_num[level-1]+=1\n",
    "        prob = selected_dataset[i][\"problem\"]\n",
    "        sol = remove_asy_tags(selected_dataset[i][\"solution\"])\n",
    "        ans=solver(prob,data_class,solver_llm)\n",
    "\n",
    "        try:\n",
    "            is_correct=judge_correctness(prob, sol, ans, llm=judging_llm)\n",
    "            if is_correct:\n",
    "                correct_num[level-1]+=1\n",
    "        except ValueError:\n",
    "            print(f\"Error in judging correctness for problem {files[i]}. Will retry later.\")\n",
    "            retry_files.append(i)\n",
    "            prob_num[level-1]-=1\n",
    "\n",
    "        if test_mode:\n",
    "            print(f\"Problem numbers at each level attempted to solve so far: {prob_num}\")\n",
    "            print(f\"Correctly-solved problem numbers at each level so far: {correct_num}\")\n",
    "\n",
    "    # Retry the files that have errors\n",
    "    if len(retry_files)>0:\n",
    "        print(f\"Retrying {len(retry_files)} files\")\n",
    "        for i in range(len(retry_files)):\n",
    "            if test_mode:\n",
    "                print(f\"Again testing problem {retry_files[i]} of {data_class}\")\n",
    "\n",
    "            level = selected_dataset[retry_files[i]][\"level\"]\n",
    "            prob_num[level-1]+=1\n",
    "            prob = selected_dataset[retry_files[i]][\"problem\"]\n",
    "            sol = remove_asy_tags(selected_dataset[retry_files[i]][\"solution\"])\n",
    "            try:\n",
    "                is_correct=judge_correctness(prob, sol, ans, llm=judging_llm)\n",
    "                if is_correct:\n",
    "                    correct_num[level-1]+=1\n",
    "            except ValueError:\n",
    "                print(f\"Error in judging correctness for problem {retry_files[i]}\")\n",
    "                prob_num[level-1]-=1\n",
    "\n",
    "        if test_mode:\n",
    "            print(f\"Problem numbers at each level attempted to solve so far: {prob_num}\")\n",
    "            print(f\"Correctly-solved problem numbers at each level so far: {correct_num}\")\n",
    "\n",
    "    return list(map(lambda x,y: x/y if y!=0 else 0, correct_num, prob_num))\n",
    "\n",
    "# test the function\n",
    "ALGEBRA_DATASET_PATH = os.path.join(ROOT_PATH, 'merged_dataset', 'train', 'algebra', 'merged.json')\n",
    "ALGEBRA_DATASET = json.load(open(ALGEBRA_DATASET_PATH))\n",
    "test(solver=llm_solver,\n",
    "     data_class='algebra',\n",
    "     dataset=ALGEBRA_DATASET,\n",
    "     levels=[1,2,3,4,5],\n",
    "     solver_llm=DEFAULT_JUDGE_LLM,\n",
    "     judging_llm=DEFAULT_JUDGE_LLM,\n",
    "     sample_size=2,\n",
    "     test_mode=True\n",
    ")"
   ]
  },
  {
   "cell_type": "markdown",
   "metadata": {},
   "source": [
    "TESTING ENDS"
   ]
  },
  {
   "cell_type": "markdown",
   "metadata": {},
   "source": [
    "For Algebra"
   ]
  },
  {
   "cell_type": "code",
   "execution_count": null,
   "metadata": {},
   "outputs": [],
   "source": [
    "ALGEBRA_DATASET_PATH = os.path.join(ROOT_PATH, 'merged_dataset', 'train', 'algebra', 'merged.json')\n",
    "ALGEBRA_DATASET = json.load(open(ALGEBRA_DATASET_PATH))\n",
    "\n",
    "for llm in LLMS:\n",
    "    acc = test(solver=llm_solver,\n",
    "                data_class='algebra',\n",
    "                dataset=ALGEBRA_DATASET,\n",
    "                levels=[1,2,3,4,5],\n",
    "                solver_llm=llm,\n",
    "                judging_llm=DEFAULT_JUDGE_LLM,\n",
    "                sample_size=10\n",
    "            )\n",
    "    # Weighted average of accuracy with most weightage to the highest level\n",
    "    mean_acc = sum([acc[i]*i for i in range(1,len(acc))])/sum(range(1,len(acc)))\n",
    "    print(f\"Weighted Mean Accuracy for {llm}: {mean_acc}\")"
   ]
  },
  {
   "cell_type": "markdown",
   "metadata": {},
   "source": [
    "For Calculus"
   ]
  },
  {
   "cell_type": "code",
   "execution_count": null,
   "metadata": {},
   "outputs": [],
   "source": [
    "PRECALCULUS_DATASET_PATH = os.path.join(ROOT_PATH, 'merged_dataset', 'train', 'precalculus', 'merged.json')\n",
    "PRECALCULUS_DATASET = json.load(open(PRECALCULUS_DATASET_PATH))\n",
    "\n",
    "for llm in LLMS:\n",
    "    acc = test(solver=llm_solver,\n",
    "                data_class='precalculus',\n",
    "                dataset=PRECALCULUS_DATASET,\n",
    "                levels=[1,2,3,4,5],\n",
    "                solver_llm=llm,\n",
    "                judging_llm=DEFAULT_JUDGE_LLM,\n",
    "                sample_size=10\n",
    "            )\n",
    "    # Weighted average of accuracy with most weightage to the highest level\n",
    "    mean_acc = sum([acc[i]*i for i in range(1,len(acc))])/sum(range(1,len(acc)))\n",
    "    print(f\"Weighted Mean Accuracy for {llm}: {mean_acc}\")"
   ]
  }
 ],
 "metadata": {
  "kernelspec": {
   "display_name": "Python 3",
   "language": "python",
   "name": "python3"
  },
  "language_info": {
   "codemirror_mode": {
    "name": "ipython",
    "version": 3
   },
   "file_extension": ".py",
   "mimetype": "text/x-python",
   "name": "python",
   "nbconvert_exporter": "python",
   "pygments_lexer": "ipython3",
   "version": "3.9.6"
  }
 },
 "nbformat": 4,
 "nbformat_minor": 2
}
