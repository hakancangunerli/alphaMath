{
 "cells": [
  {
   "cell_type": "code",
   "execution_count": 1,
   "metadata": {},
   "outputs": [],
   "source": [
    "import os\n",
    "import json\n",
    "import random"
   ]
  },
  {
   "cell_type": "code",
   "execution_count": 2,
   "metadata": {},
   "outputs": [],
   "source": [
    "import ollama\n",
    "\n",
    "ollama.pull(\"codegemma\")\n",
    "ollama.pull(\"codegemma:7b-code-fp16\")"
   ]
  },
  {
   "cell_type": "code",
   "execution_count": 2,
   "metadata": {},
   "outputs": [
    {
     "data": {
      "text/plain": [
       "'c:\\\\Users\\\\abc\\\\Dropbox (GaTech)\\\\alphaMath'"
      ]
     },
     "execution_count": 2,
     "metadata": {},
     "output_type": "execute_result"
    }
   ],
   "source": [
    "ROOT_PATH = os.getcwd()\n",
    "ROOT_PATH"
   ]
  },
  {
   "cell_type": "code",
   "execution_count": 3,
   "metadata": {},
   "outputs": [],
   "source": [
    "from constants import DEFAULT_JUDGE_LLM, CODE_LLMS\n",
    "from solver import solve_problem_by_coding\n",
    "from validate_llms import validate_solver_llm"
   ]
  },
  {
   "cell_type": "code",
   "execution_count": 4,
   "metadata": {},
   "outputs": [],
   "source": [
    "def subsample(dataset, sample_size):\n",
    "    return random.sample(dataset, sample_size)"
   ]
  },
  {
   "cell_type": "markdown",
   "metadata": {},
   "source": [
    "For Algebra"
   ]
  },
  {
   "cell_type": "code",
   "execution_count": 5,
   "metadata": {},
   "outputs": [],
   "source": [
    "ALGEBRA_DATASET_PATH = os.path.join(\n",
    "    ROOT_PATH, \"merged_dataset\", \"train\", \"algebra\", \"merged.json\"\n",
    ")\n",
    "ALGEBRA_DATASET = json.load(open(ALGEBRA_DATASET_PATH))\n",
    "SUBSAMPLED_ALGEBRA_DATASET = subsample(ALGEBRA_DATASET, 5)\n",
    "\n",
    "for llm in CODE_LLMS:\n",
    "    acc, fail = validate_solver_llm(\n",
    "        solve_method=solve_problem_by_coding,\n",
    "        data_class=\"algebra\",\n",
    "        dataset=SUBSAMPLED_ALGEBRA_DATASET,\n",
    "        solver_llm=llm,\n",
    "        levels=[1, 2, 3, 4, 5],\n",
    "        judging_llm=\"gpt-3.5-turbo\",\n",
    "        test_mode=True\n",
    "    )\n",
    "    # Weighted average of accuracy with most weightage to the highest level\n",
    "    mean_acc = sum([acc[i] * i for i in range(1, len(acc))]) / sum(range(1, len(acc)))\n",
    "    print(f\"Weighted Mean Accuracy for {llm}: {mean_acc}\")\n",
    "    mean_fail = sum([fail[i] * i for i in range(1, len(fail))]) / sum(range(1, len(fail)))\n",
    "    print(f\"Weighted Mean Fail Rate for {llm}: {mean_fail}\")"
   ]
  },
  {
   "cell_type": "markdown",
   "metadata": {},
   "source": [
    "For Calculus"
   ]
  },
  {
   "cell_type": "code",
   "execution_count": 6,
   "metadata": {},
   "outputs": [],
   "source": [
    "# PRECALCULUS_DATASET_PATH = os.path.join(\n",
    "#     ROOT_PATH, \"merged_dataset\", \"train\", \"precalculus\", \"merged.json\"\n",
    "# )\n",
    "# PRECALCULUS_DATASET = json.load(open(PRECALCULUS_DATASET_PATH))\n",
    "# SUBSAMPLED_PRECALCULUS_DATASET = subsample(PRECALCULUS_DATASET, 30)\n",
    "\n",
    "# for llm in CODE_LLMS:\n",
    "#     acc = validate_solver_llm(\n",
    "#         solver=llm_coder,\n",
    "#         data_class=\"precalculus\",\n",
    "#         dataset=SUBSAMPLED_PRECALCULUS_DATASET,\n",
    "#         levels=[1, 2, 3, 4, 5],\n",
    "#         solver_llm=llm,\n",
    "#         judging_llm=DEFAULT_JUDGE_LLM,\n",
    "#     )\n",
    "#     # Weighted average of accuracy with most weightage to the highest level\n",
    "#     mean_acc = sum([acc[i] * i for i in range(1, len(acc))]) / sum(range(1, len(acc)))\n",
    "#     print(f\"Weighted Mean Accuracy for {llm}: {mean_acc}\")"
   ]
  },
  {
   "cell_type": "code",
   "execution_count": null,
   "metadata": {},
   "outputs": [],
   "source": []
  }
 ],
 "metadata": {
  "kernelspec": {
   "display_name": "Python 3",
   "language": "python",
   "name": "python3"
  },
  "language_info": {
   "codemirror_mode": {
    "name": "ipython",
    "version": 3
   },
   "file_extension": ".py",
   "mimetype": "text/x-python",
   "name": "python",
   "nbconvert_exporter": "python",
   "pygments_lexer": "ipython3",
   "version": "3.11.4"
  }
 },
 "nbformat": 4,
 "nbformat_minor": 2
}
