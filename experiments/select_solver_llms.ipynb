{
 "cells": [
  {
   "cell_type": "code",
   "execution_count": 1,
   "metadata": {},
   "outputs": [],
   "source": [
    "import os\n",
    "import json\n",
    "import random"
   ]
  },
  {
   "cell_type": "code",
   "execution_count": 2,
   "metadata": {},
   "outputs": [
    {
     "data": {
      "text/plain": [
       "{'status': 'success'}"
      ]
     },
     "execution_count": 2,
     "metadata": {},
     "output_type": "execute_result"
    }
   ],
   "source": [
    "import ollama\n",
    "\n",
    "ollama.pull(\"codegemma\")"
   ]
  },
  {
   "cell_type": "code",
   "execution_count": 2,
   "metadata": {},
   "outputs": [
    {
     "data": {
      "text/plain": [
       "'/Users/tanmaydas/dev/dl/alphaMath'"
      ]
     },
     "execution_count": 2,
     "metadata": {},
     "output_type": "execute_result"
    }
   ],
   "source": [
    "ROOT_PATH = os.getcwd()\n",
    "ROOT_PATH"
   ]
  },
  {
   "cell_type": "code",
   "execution_count": 3,
   "metadata": {},
   "outputs": [
    {
     "name": "stderr",
     "output_type": "stream",
     "text": [
      "/Users/tanmaydas/dev/dl/alphaMath/.venv/lib/python3.9/site-packages/urllib3/__init__.py:35: NotOpenSSLWarning: urllib3 v2 only supports OpenSSL 1.1.1+, currently the 'ssl' module is compiled with 'LibreSSL 2.8.3'. See: https://github.com/urllib3/urllib3/issues/3020\n",
      "  warnings.warn(\n"
     ]
    }
   ],
   "source": [
    "from constants import DEFAULT_JUDGE_LLM, LLMS\n",
    "from solver import llm_solver\n",
    "from validate_llms import validate_solver_llm"
   ]
  },
  {
   "cell_type": "code",
   "execution_count": 4,
   "metadata": {},
   "outputs": [],
   "source": [
    "def subsample(dataset, sample_size):\n",
    "    return random.sample(dataset, sample_size)"
   ]
  },
  {
   "cell_type": "markdown",
   "metadata": {},
   "source": [
    "For Algebra"
   ]
  },
  {
   "cell_type": "code",
   "execution_count": 10,
   "metadata": {},
   "outputs": [
    {
     "name": "stdout",
     "output_type": "stream",
     "text": [
      "Testing dataset algebra with levels [1, 2, 3, 4, 5]\n",
      "Weighted Mean Accuracy for llama3-70b-8192: 0.8271428571428572\n",
      "Testing dataset algebra with levels [1, 2, 3, 4, 5]\n",
      "Weighted Mean Accuracy for llama3-8b-8192: 0.3335714285714285\n",
      "Testing dataset algebra with levels [1, 2, 3, 4, 5]\n",
      "Weighted Mean Accuracy for llama2-70b-4096: 0.1\n",
      "Testing dataset algebra with levels [1, 2, 3, 4, 5]\n",
      "Weighted Mean Accuracy for mixtral-8x7b-32768: 0.38642857142857145\n",
      "Testing dataset algebra with levels [1, 2, 3, 4, 5]\n",
      "Weighted Mean Accuracy for gemma-7b-it: 0.11499999999999999\n",
      "Testing dataset algebra with levels [1, 2, 3, 4, 5]\n",
      "Weighted Mean Accuracy for gpt-3.5-turbo: 0.385\n",
      "Testing dataset algebra with levels [1, 2, 3, 4, 5]\n",
      "Weighted Mean Accuracy for gpt-4-turbo: 0.75\n"
     ]
    }
   ],
   "source": [
    "ALGEBRA_DATASET_PATH = os.path.join(\n",
    "    ROOT_PATH, \"merged_dataset\", \"train\", \"algebra\", \"merged.json\"\n",
    ")\n",
    "ALGEBRA_DATASET = json.load(open(ALGEBRA_DATASET_PATH))\n",
    "SUBSAMPLED_ALGEBRA_DATASET = subsample(ALGEBRA_DATASET, 30)\n",
    "\n",
    "for llm in LLMS:\n",
    "    acc = validate_solver_llm(\n",
    "        solver=llm_solver,\n",
    "        data_class=\"algebra\",\n",
    "        dataset=SUBSAMPLED_ALGEBRA_DATASET,\n",
    "        levels=[1, 2, 3, 4, 5],\n",
    "        solver_llm=llm,\n",
    "        judging_llm=DEFAULT_JUDGE_LLM,\n",
    "    )\n",
    "    # Weighted average of accuracy with most weightage to the highest level\n",
    "    mean_acc = sum([acc[i] * i for i in range(1, len(acc))]) / sum(range(1, len(acc)))\n",
    "    print(f\"Weighted Mean Accuracy for {llm}: {mean_acc}\")"
   ]
  },
  {
   "cell_type": "markdown",
   "metadata": {},
   "source": [
    "For Calculus"
   ]
  },
  {
   "cell_type": "code",
   "execution_count": 11,
   "metadata": {},
   "outputs": [
    {
     "name": "stdout",
     "output_type": "stream",
     "text": [
      "Testing dataset precalculus with levels [1, 2, 3, 4, 5]\n",
      "Weighted Mean Accuracy for llama3-70b-8192: 0.3174025974025974\n",
      "Testing dataset precalculus with levels [1, 2, 3, 4, 5]\n",
      "Weighted Mean Accuracy for llama3-8b-8192: 0.19246753246753248\n",
      "Testing dataset precalculus with levels [1, 2, 3, 4, 5]\n",
      "Weighted Mean Accuracy for llama2-70b-4096: 0.09480519480519481\n",
      "Testing dataset precalculus with levels [1, 2, 3, 4, 5]\n",
      "Weighted Mean Accuracy for mixtral-8x7b-32768: 0.19298701298701298\n",
      "Testing dataset precalculus with levels [1, 2, 3, 4, 5]\n",
      "Weighted Mean Accuracy for gemma-7b-it: 0.1742857142857143\n",
      "Testing dataset precalculus with levels [1, 2, 3, 4, 5]\n",
      "Weighted Mean Accuracy for gpt-3.5-turbo: 0.36103896103896105\n",
      "Testing dataset precalculus with levels [1, 2, 3, 4, 5]\n",
      "Weighted Mean Accuracy for gpt-4-turbo: 0.505974025974026\n"
     ]
    }
   ],
   "source": [
    "PRECALCULUS_DATASET_PATH = os.path.join(\n",
    "    ROOT_PATH, \"merged_dataset\", \"train\", \"precalculus\", \"merged.json\"\n",
    ")\n",
    "PRECALCULUS_DATASET = json.load(open(PRECALCULUS_DATASET_PATH))\n",
    "SUBSAMPLED_PRECALCULUS_DATASET = subsample(PRECALCULUS_DATASET, 30)\n",
    "\n",
    "for llm in LLMS:\n",
    "    acc = validate_solver_llm(\n",
    "        solver=llm_solver,\n",
    "        data_class=\"precalculus\",\n",
    "        dataset=SUBSAMPLED_PRECALCULUS_DATASET,\n",
    "        levels=[1, 2, 3, 4, 5],\n",
    "        solver_llm=llm,\n",
    "        judging_llm=DEFAULT_JUDGE_LLM,\n",
    "    )\n",
    "    # Weighted average of accuracy with most weightage to the highest level\n",
    "    mean_acc = sum([acc[i] * i for i in range(1, len(acc))]) / sum(range(1, len(acc)))\n",
    "    print(f\"Weighted Mean Accuracy for {llm}: {mean_acc}\")"
   ]
  },
  {
   "cell_type": "code",
   "execution_count": null,
   "metadata": {},
   "outputs": [],
   "source": []
  }
 ],
 "metadata": {
  "kernelspec": {
   "display_name": "Python 3",
   "language": "python",
   "name": "python3"
  },
  "language_info": {
   "codemirror_mode": {
    "name": "ipython",
    "version": 3
   },
   "file_extension": ".py",
   "mimetype": "text/x-python",
   "name": "python",
   "nbconvert_exporter": "python",
   "pygments_lexer": "ipython3",
   "version": "3.9.6"
  }
 },
 "nbformat": 4,
 "nbformat_minor": 2
}
