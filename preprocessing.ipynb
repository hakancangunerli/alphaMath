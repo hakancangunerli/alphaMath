{
 "cells": [
  {
   "cell_type": "code",
   "execution_count": 19,
   "metadata": {},
   "outputs": [],
   "source": [
    "import json\n",
    "import os\n",
    "import re\n",
    "from constants import *"
   ]
  },
  {
   "cell_type": "code",
   "execution_count": 21,
   "metadata": {},
   "outputs": [],
   "source": [
    "asy_pattern = re.compile(r'\\[asy\\].*?\\[/asy\\]', re.DOTALL)\n",
    "def remove_asy_tags(text):\n",
    "    return re.sub(asy_pattern, '', text)"
   ]
  },
  {
   "cell_type": "code",
   "execution_count": 22,
   "metadata": {},
   "outputs": [],
   "source": [
    "def merge_json(\n",
    "    source_dir, data_class, target_dir, levels: list = [1, 2, 3, 4, 5], test_mode=False\n",
    "):\n",
    "    source_dir = os.path.join(source_dir, data_class)\n",
    "    files = [\n",
    "        f for f in os.listdir(source_dir) if os.path.isfile(os.path.join(source_dir, f))\n",
    "    ]\n",
    "    prob_dict = {}\n",
    "    merged_json = []\n",
    "\n",
    "    for i in range(len(files) if not test_mode else min(2, len(files))):\n",
    "        if test_mode:\n",
    "            print(f\"Processing file {i+1}/{len(files)}\")\n",
    "            print(f\"working on file path: {os.path.join(source_dir, files[i])}\")\n",
    "        with open(os.path.join(source_dir, files[i]), \"r\") as f:\n",
    "            try: # error would occur in reading some files in the geometry class\n",
    "                data = json.load(f)\n",
    "                level = int(data[\"level\"][-1])\n",
    "                if level not in levels:\n",
    "                    continue\n",
    "                prob_dict[\"problem\"] = data[\"problem\"]\n",
    "                prob_dict[\"solution\"] = remove_asy_tags(data[\"solution\"])\n",
    "                prob_dict[\"level\"] = level\n",
    "                prob_dict[\"class\"] = data_class\n",
    "                prob_dict[\"filename\"] = files[i].split(\".\")[0]\n",
    "            except:\n",
    "                print(f\"Error in reading file: {files[i]}\")\n",
    "                continue\n",
    "\n",
    "            merged_json.append(prob_dict.copy())\n",
    "            \n",
    "    os.makedirs(os.path.join(target_dir, data_class), exist_ok=True)\n",
    "    with open(os.path.join(target_dir, data_class, \"merged.json\"), \"w\") as f:\n",
    "        json.dump(merged_json, f, indent=4)"
   ]
  },
  {
   "cell_type": "code",
   "execution_count": 28,
   "metadata": {},
   "outputs": [],
   "source": [
    "source_dir = \"D:/Users/abc/Desktop/MATH/train\"\n",
    "target_dir = 'C:/Users/abc/Dropbox (GaTech)/python_projects/alphaMath/merged_dataset/train'\n",
    "\n",
    "for data_class in ALL_PROBLEM_CLASSES:\n",
    "    print('merging class:', data_class)\n",
    "    merge_json(source_dir, data_class, target_dir, levels=[1,2,3,4,5])"
   ]
  }
 ],
 "metadata": {
  "kernelspec": {
   "display_name": ".venv",
   "language": "python",
   "name": "python3"
  },
  "language_info": {
   "codemirror_mode": {
    "name": "ipython",
    "version": 3
   },
   "file_extension": ".py",
   "mimetype": "text/x-python",
   "name": "python",
   "nbconvert_exporter": "python",
   "pygments_lexer": "ipython3",
   "version": "3.11.4"
  }
 },
 "nbformat": 4,
 "nbformat_minor": 2
}
