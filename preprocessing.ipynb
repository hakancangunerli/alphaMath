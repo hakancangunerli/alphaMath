{
 "cells": [
  {
   "cell_type": "code",
   "execution_count": 13,
   "metadata": {},
   "outputs": [
    {
     "name": "stdout",
     "output_type": "stream",
     "text": [
      "Processing file 1/1744\n",
      "working on file path: /Users/tanmaydas/dev/dl/alphaMath/dataset/train/algebra/2833.json\n",
      "Processing file 2/1744\n",
      "working on file path: /Users/tanmaydas/dev/dl/alphaMath/dataset/train/algebra/729.json\n"
     ]
    }
   ],
   "source": [
    "import json\n",
    "import os\n",
    "\n",
    "def merge_json(source_dir,\n",
    "               data_class,\n",
    "               target_dir,\n",
    "               levels:list=[1,2,3,4,5],\n",
    "               test_mode=False):\n",
    "    source_dir=os.path.join(source_dir,data_class)\n",
    "    files = [f for f in os.listdir(source_dir) if os.path.isfile(os.path.join(source_dir, f))]\n",
    "    prob_dict = {}\n",
    "    merged_json = []\n",
    "\n",
    "    for i in range(len(files) if not test_mode else min(2,len(files))):\n",
    "        if test_mode:\n",
    "            print(f\"Processing file {i+1}/{len(files)}\")\n",
    "            print(f\"working on file path: {os.path.join(source_dir, files[i])}\")\n",
    "        with open(os.path.join(source_dir, files[i]), \"r\") as f:\n",
    "            data = json.load(f)\n",
    "            level=int(data[\"level\"][-1])\n",
    "            if level not in levels:\n",
    "                continue\n",
    "            prob = data[\"problem\"]\n",
    "            sol = data[\"solution\"]\n",
    "            filename = files[i].split(\".\")[0]\n",
    "            prob_dict[\"problem\"] = prob\n",
    "            prob_dict[\"solution\"] = sol\n",
    "            prob_dict[\"level\"] = level\n",
    "            prob_dict[\"class\"] = data_class\n",
    "            prob_dict[\"filename\"] = filename\n",
    "\n",
    "        merged_json.append(prob_dict.copy())\n",
    "    with open(os.path.join(target_dir, data_class, \"merged.json\"), \"w\") as f:\n",
    "        json.dump(merged_json, f, indent=4)\n",
    "\n",
    "PATH = \"/Users/tanmaydas/dev/dl/alphaMath/dataset/train\"\n",
    "source_dir = PATH\n",
    "target_dir = f\"/Users/tanmaydas/dev/dl/alphaMath/merged_dataset/train\"\n",
    "data_class = \"algebra\"\n",
    "merge_json(source_dir, data_class, target_dir, levels=[4,5], test_mode=True)"
   ]
  },
  {
   "cell_type": "code",
   "execution_count": 14,
   "metadata": {},
   "outputs": [],
   "source": [
    "PATH = \"/Users/tanmaydas/dev/dl/alphaMath/dataset/train\"\n",
    "source_dir = PATH\n",
    "target_dir = f\"/Users/tanmaydas/dev/dl/alphaMath/merged_dataset/train\"\n",
    "data_class = \"algebra\"\n",
    "merge_json(source_dir, data_class, target_dir, levels=[1,2,3,4,5])\n",
    "\n",
    "PATH = \"/Users/tanmaydas/dev/dl/alphaMath/dataset/train\"\n",
    "source_dir = PATH\n",
    "target_dir = f\"/Users/tanmaydas/dev/dl/alphaMath/merged_dataset/train\"\n",
    "data_class = \"precalculus\"\n",
    "merge_json(source_dir, data_class, target_dir, levels=[1,2,3,4,5])"
   ]
  },
  {
   "cell_type": "code",
   "execution_count": null,
   "metadata": {},
   "outputs": [],
   "source": []
  }
 ],
 "metadata": {
  "kernelspec": {
   "display_name": ".venv",
   "language": "python",
   "name": "python3"
  },
  "language_info": {
   "codemirror_mode": {
    "name": "ipython",
    "version": 3
   },
   "file_extension": ".py",
   "mimetype": "text/x-python",
   "name": "python",
   "nbconvert_exporter": "python",
   "pygments_lexer": "ipython3",
   "version": "3.9.6"
  }
 },
 "nbformat": 4,
 "nbformat_minor": 2
}
